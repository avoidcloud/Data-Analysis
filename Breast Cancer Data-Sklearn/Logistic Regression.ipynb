{
 "cells": [
  {
   "cell_type": "code",
   "execution_count": 1,
   "metadata": {},
   "outputs": [],
   "source": [
    "from sklearn.linear_model import LogisticRegression\n",
    "from sklearn.datasets import load_breast_cancer\n",
    "from sklearn.model_selection import train_test_split\n",
    "from matplotlib import pyplot as graph"
   ]
  },
  {
   "cell_type": "code",
   "execution_count": 2,
   "metadata": {},
   "outputs": [],
   "source": [
    "cancer = load_breast_cancer()\n",
    "reg = LogisticRegression()\n",
    "trainX,testX = train_test_split(cancer.data)\n",
    "trainY,testY = train_test_split(cancer.target)"
   ]
  },
  {
   "cell_type": "markdown",
   "metadata": {},
   "source": [
    "   #### Defalut value in Logistic Regression Class\n",
    "    LogisticRegression(C=1.0, class_weight=None, dual=False, fit_intercept=True,\n",
    "          intercept_scaling=1, max_iter=100, multi_class='ovr', n_jobs=1,\n",
    "          penalty='l2', random_state=None, solver='liblinear', tol=0.0001,\n",
    "          verbose=0, warm_start=False)\n",
    "          \n",
    "  #### Default value in train_test_split\n",
    "    train_test_split(train_size=.75, test_size=0.25, random_state=None, \n",
    "          suffle=True, stratify=None)\n",
    "  "
   ]
  },
  {
   "cell_type": "code",
   "execution_count": 3,
   "metadata": {},
   "outputs": [
    {
     "name": "stdout",
     "output_type": "stream",
     "text": [
      "Accuracy for training data : 0.62676\n",
      "Accuracy for testing data : 0.65734\n"
     ]
    }
   ],
   "source": [
    "reg.fit(trainX,trainY)\n",
    "\n",
    "print('Accuracy for training data : {:.5f}'.format(reg.score(trainX,trainY)))\n",
    "print('Accuracy for testing data : {:.5f}'.format(reg.score(testX,testY)))"
   ]
  },
  {
   "cell_type": "markdown",
   "metadata": {},
   "source": [
    "<h4 align = 'center'>Change the parameter of Logistic Regression and Split function</h4>"
   ]
  },
  {
   "cell_type": "code",
   "execution_count": 4,
   "metadata": {},
   "outputs": [
    {
     "name": "stdout",
     "output_type": "stream",
     "text": [
      "Accuracy for training data : 0.61972\n",
      "Accuracy for testing data : 0.67133\n"
     ]
    }
   ],
   "source": [
    "reg = LogisticRegression(C = .01)\n",
    "reg.fit(trainX,trainY)\n",
    "print('Accuracy for training data : {:.5f}'.format(reg.score(trainX,trainY)))\n",
    "print('Accuracy for testing data : {:.5f}'.format(reg.score(testX,testY)))"
   ]
  },
  {
   "cell_type": "code",
   "execution_count": 5,
   "metadata": {},
   "outputs": [
    {
     "name": "stdout",
     "output_type": "stream",
     "text": [
      "Accuracy for training data : 0.63380\n",
      "Accuracy for testing data : 0.67133\n"
     ]
    }
   ],
   "source": [
    "reg = LogisticRegression(C = 50)\n",
    "reg.fit(trainX,trainY)\n",
    "print('Accuracy for training data : {:.5f}'.format(reg.score(trainX,trainY)))\n",
    "print('Accuracy for testing data : {:.5f}'.format(reg.score(testX,testY)))"
   ]
  },
  {
   "cell_type": "code",
   "execution_count": 6,
   "metadata": {},
   "outputs": [
    {
     "name": "stdout",
     "output_type": "stream",
     "text": [
      "Accuracy for training data : 0.95775\n",
      "Accuracy for testing data : 0.93706\n"
     ]
    }
   ],
   "source": [
    "trainX,testX = train_test_split(cancer.data, random_state = 10)\n",
    "trainY,testY = train_test_split(cancer.target, random_state = 10)\n",
    "reg = LogisticRegression().fit(trainX,trainY)\n",
    "print('Accuracy for training data : {:.5f}'.format(reg.score(trainX,trainY)))\n",
    "print('Accuracy for testing data : {:.5f}'.format(reg.score(testX,testY)))"
   ]
  },
  {
   "cell_type": "code",
   "execution_count": 7,
   "metadata": {},
   "outputs": [
    {
     "name": "stdout",
     "output_type": "stream",
     "text": [
      "Accuracy for training data : 0.97653\n",
      "Accuracy for testing data : 0.93706\n"
     ]
    }
   ],
   "source": [
    "trainX,testX = train_test_split(cancer.data, random_state = 10)\n",
    "trainY,testY = train_test_split(cancer.target, random_state = 10)\n",
    "reg = LogisticRegression(C = 50).fit(trainX,trainY)\n",
    "print('Accuracy for training data : {:.5f}'.format(reg.score(trainX,trainY)))\n",
    "print('Accuracy for testing data : {:.5f}'.format(reg.score(testX,testY)))"
   ]
  },
  {
   "cell_type": "code",
   "execution_count": 8,
   "metadata": {},
   "outputs": [
    {
     "name": "stdout",
     "output_type": "stream",
     "text": [
      "Accuracy for training data : 0.96948\n",
      "Accuracy for testing data : 0.95804\n"
     ]
    }
   ],
   "source": [
    "trainX,testX = train_test_split(cancer.data, random_state = 0)\n",
    "trainY,testY = train_test_split(cancer.target, random_state = 0)\n",
    "reg = LogisticRegression(C = 100).fit(trainX,trainY)\n",
    "print('Accuracy for training data : {:.5f}'.format(reg.score(trainX,trainY)))\n",
    "print('Accuracy for testing data : {:.5f}'.format(reg.score(testX,testY)))"
   ]
  },
  {
   "cell_type": "code",
   "execution_count": 9,
   "metadata": {},
   "outputs": [
    {
     "name": "stdout",
     "output_type": "stream",
     "text": [
      "Accuracy for training data : 0.98357\n",
      "Accuracy for testing data : 0.93007\n"
     ]
    }
   ],
   "source": [
    "trainX,testX = train_test_split(cancer.data, random_state = 30)\n",
    "trainY,testY = train_test_split(cancer.target, random_state = 30)\n",
    "reg = LogisticRegression(C = 100).fit(trainX,trainY)\n",
    "print('Accuracy for training data : {:.5f}'.format(reg.score(trainX,trainY)))\n",
    "print('Accuracy for testing data : {:.5f}'.format(reg.score(testX,testY)))"
   ]
  },
  {
   "cell_type": "code",
   "execution_count": 10,
   "metadata": {},
   "outputs": [
    {
     "name": "stdout",
     "output_type": "stream",
     "text": [
      "Accuracy for training data : 0.96244\n",
      "Accuracy for testing data : 0.96503\n"
     ]
    }
   ],
   "source": [
    "trainX,testX = train_test_split(cancer.data, random_state = 60)\n",
    "trainY,testY = train_test_split(cancer.target, random_state = 60)\n",
    "reg = LogisticRegression(C = 100).fit(trainX,trainY)\n",
    "print('Accuracy for training data : {:.5f}'.format(reg.score(trainX,trainY)))\n",
    "print('Accuracy for testing data : {:.5f}'.format(reg.score(testX,testY)))"
   ]
  },
  {
   "cell_type": "code",
   "execution_count": 11,
   "metadata": {},
   "outputs": [
    {
     "name": "stdout",
     "output_type": "stream",
     "text": [
      "Accuracy for training data : 0.93427\n",
      "Accuracy for testing data : 0.93007\n"
     ]
    }
   ],
   "source": [
    "trainX,testX = train_test_split(cancer.data, random_state = 0)\n",
    "trainY,testY = train_test_split(cancer.target, random_state = 0)\n",
    "reg = LogisticRegression(C = .01).fit(trainX,trainY)\n",
    "print('Accuracy for training data : {:.5f}'.format(reg.score(trainX,trainY)))\n",
    "print('Accuracy for testing data : {:.5f}'.format(reg.score(testX,testY)))"
   ]
  },
  {
   "cell_type": "code",
   "execution_count": 12,
   "metadata": {},
   "outputs": [
    {
     "name": "stdout",
     "output_type": "stream",
     "text": [
      "Accuracy for training data : 0.96479\n",
      "Accuracy for testing data : 0.97203\n"
     ]
    }
   ],
   "source": [
    "trainX,testX = train_test_split(cancer.data, random_state = 60)\n",
    "trainY,testY = train_test_split(cancer.target, random_state = 60)\n",
    "reg = LogisticRegression(C = 40).fit(trainX,trainY)\n",
    "print('Accuracy for training data : {:.5f}'.format(reg.score(trainX,trainY)))\n",
    "print('Accuracy for testing data : {:.5f}'.format(reg.score(testX,testY)))"
   ]
  }
 ],
 "metadata": {
  "kernelspec": {
   "display_name": "Python 3",
   "language": "python",
   "name": "python3"
  },
  "language_info": {
   "codemirror_mode": {
    "name": "ipython",
    "version": 3
   },
   "file_extension": ".py",
   "mimetype": "text/x-python",
   "name": "python",
   "nbconvert_exporter": "python",
   "pygments_lexer": "ipython3",
   "version": "3.6.3"
  }
 },
 "nbformat": 4,
 "nbformat_minor": 2
}
