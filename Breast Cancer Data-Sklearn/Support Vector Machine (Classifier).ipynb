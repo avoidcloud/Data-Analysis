{
 "cells": [
  {
   "cell_type": "code",
   "execution_count": 1,
   "metadata": {},
   "outputs": [],
   "source": [
    "from sklearn.svm import SVC\n",
    "from sklearn.datasets import load_breast_cancer\n",
    "from sklearn.model_selection import train_test_split\n",
    "from matplotlib import pyplot as graph"
   ]
  },
  {
   "cell_type": "code",
   "execution_count": 2,
   "metadata": {},
   "outputs": [],
   "source": [
    "cancer = load_breast_cancer()\n",
    "\n",
    "trainX, testX = train_test_split(cancer.data, random_state=0)\n",
    "trainY, testY = train_test_split(cancer.target, random_state=0)"
   ]
  },
  {
   "cell_type": "markdown",
   "metadata": {},
   "source": [
    "#### Default parameter for Support Vector Machine Classifier\n",
    "    SVC(C=1.0, cache_size=200, class_weight=None, coef0=0.0,\n",
    "      decision_function_shape='ovr', degree=3, gamma='auto', kernel='rbf',\n",
    "      max_iter=-1, probability=False, random_state=None, shrinking=True,\n",
    "      tol=0.001, verbose=False)"
   ]
  },
  {
   "cell_type": "code",
   "execution_count": 3,
   "metadata": {},
   "outputs": [
    {
     "name": "stdout",
     "output_type": "stream",
     "text": [
      "Training data score: 1.00000\n",
      "Testing data score: 0.62937\n"
     ]
    }
   ],
   "source": [
    "clf = SVC()\n",
    "clf.fit(trainX,trainY)\n",
    "\n",
    "print('Training data score: {:.5f}'.format(clf.score(trainX,trainY)))\n",
    "print('Testing data score: {:.5f}'.format(clf.score(testX,testY)))"
   ]
  },
  {
   "cell_type": "markdown",
   "metadata": {},
   "source": [
    "#### Train feature 1st value cluster\n",
    "    Minimum value in blue ball\n",
    "    Maximum value's log in orange triangle \n",
    "    \n",
    "    There are more function in SVM for getting more accuracy by using some mathematical expression"
   ]
  },
  {
   "cell_type": "code",
   "execution_count": 4,
   "metadata": {},
   "outputs": [
    {
     "data": {
      "image/png": "[encoded data removed]",
      "text/plain": [
       "<matplotlib.figure.Figure at 0xf4b2f50>"
      ]
     },
     "metadata": {},
     "output_type": "display_data"
    }
   ],
   "source": [
    "graph.plot(trainX.min(axis=0),'o',label='Min')\n",
    "graph.plot(trainX.max(axis=0),'v',label='Max')\n",
    "graph.legend(loc='upper right')\n",
    "graph.yscale('log')\n",
    "graph.xlabel('Feature index')\n",
    "graph.ylabel('Feature in Log')\n",
    "graph.show()"
   ]
  },
  {
   "cell_type": "code",
   "execution_count": 5,
   "metadata": {},
   "outputs": [
    {
     "name": "stdout",
     "output_type": "stream",
     "text": [
      "Training data score: 0.94601\n",
      "Testing data score: 0.94406\n"
     ]
    }
   ],
   "source": [
    "clf = SVC(C=100, gamma=0.000001)\n",
    "clf.fit(trainX,trainY)\n",
    "\n",
    "print('Training data score: {:.5f}'.format(clf.score(trainX,trainY)))\n",
    "print('Testing data score: {:.5f}'.format(clf.score(testX,testY)))"
   ]
  }
 ],
 "metadata": {
  "kernelspec": {
   "display_name": "Python 3",
   "language": "python",
   "name": "python3"
  },
  "language_info": {
   "codemirror_mode": {
    "name": "ipython",
    "version": 3
   },
   "file_extension": ".py",
   "mimetype": "text/x-python",
   "name": "python",
   "nbconvert_exporter": "python",
   "pygments_lexer": "ipython3",
   "version": "3.6.3"
  }
 },
 "nbformat": 4,
 "nbformat_minor": 2
}
