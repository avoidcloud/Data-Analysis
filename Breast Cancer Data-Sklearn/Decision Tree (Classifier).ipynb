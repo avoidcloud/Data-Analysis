{
 "cells": [
  {
   "cell_type": "code",
   "execution_count": 1,
   "metadata": {},
   "outputs": [],
   "source": [
    "from sklearn.tree import DecisionTreeClassifier \n",
    "from sklearn.datasets import load_breast_cancer\n",
    "from sklearn.model_selection import train_test_split \n",
    "from matplotlib import pyplot as graph"
   ]
  },
  {
   "cell_type": "code",
   "execution_count": 2,
   "metadata": {},
   "outputs": [],
   "source": [
    "cancer = load_breast_cancer()\n",
    "\n",
    "trainX, testX = train_test_split(cancer.data, random_state=30)\n",
    "trainY, testY = train_test_split(cancer.target, random_state=30)"
   ]
  },
  {
   "cell_type": "markdown",
   "metadata": {},
   "source": [
    "#### Default parameter for Decision Tree Classifier\n",
    "    DecisionTreeClassifier(class_weight=None, criterion='gini', max_depth=None,\n",
    "            max_features=None, max_leaf_nodes=None,\n",
    "            min_impurity_decrease=0.0, min_impurity_split=None,\n",
    "            min_samples_leaf=1, min_samples_split=2,\n",
    "            min_weight_fraction_leaf=0.0, presort=False, random_state=None,\n",
    "            splitter='best')"
   ]
  },
  {
   "cell_type": "code",
   "execution_count": 3,
   "metadata": {},
   "outputs": [
    {
     "name": "stdout",
     "output_type": "stream",
     "text": [
      "Training score : 1.00000\n",
      "Testing score: 0.90909\n"
     ]
    }
   ],
   "source": [
    "clf = DecisionTreeClassifier()\n",
    "clf.fit(trainX,trainY)\n",
    "\n",
    "print('Training score : {:.5f}'.format(clf.score(trainX,trainY)))\n",
    "print('Testing score: {:.5f}'.format(clf.score(testX,testY)))"
   ]
  },
  {
   "cell_type": "code",
   "execution_count": 4,
   "metadata": {},
   "outputs": [
    {
     "name": "stdout",
     "output_type": "stream",
     "text": [
      "Training score : 0.97887\n",
      "Testing score: 0.92308\n"
     ]
    }
   ],
   "source": [
    "clf = DecisionTreeClassifier(max_depth=3)\n",
    "clf.fit(trainX,trainY)\n",
    "\n",
    "print('Training score : {:.5f}'.format(clf.score(trainX,trainY)))\n",
    "print('Testing score: {:.5f}'.format(clf.score(testX,testY)))"
   ]
  },
  {
   "cell_type": "markdown",
   "metadata": {},
   "source": [
    "#### Decision Tree Nature:\n",
    "    How much(as plot representation) features use in Decision Tree"
   ]
  },
  {
   "cell_type": "code",
   "execution_count": 5,
   "metadata": {},
   "outputs": [
    {
     "data": {
      "image/png": "[encoded data removed]",
      "text/plain": [
       "<matplotlib.figure.Figure at 0xefde0b0>"
      ]
     },
     "metadata": {},
     "output_type": "display_data"
    }
   ],
   "source": [
    "graph.plot(clf.feature_importances_)\n",
    "graph.show()"
   ]
  },
  {
   "cell_type": "markdown",
   "metadata": {},
   "source": [
    "#### Graphical representation of this Decision Tree using graphviz library\n",
    "       Dowload Graphviz: https://graphviz.gitlab.io/download/\n",
    "       Python graphviz package: pip install graphviz"
   ]
  },
  {
   "cell_type": "code",
   "execution_count": 6,
   "metadata": {
    "scrolled": false
   },
   "outputs": [
    {
     "data": {
      "image/svg+xml": [
       "<svg height=\"433pt\" viewBox=\"0.00 0.00 966.50 433.00\" width=\"967pt\" xmlns=\"http://www.w3.org/2000/svg\" xmlns:xlink=\"http://www.w3.org/1999/xlink\">\n",
       "<g class=\"graph\" id=\"graph0\" transform=\"scale(1 1) rotate(0) translate(4 429)\">\n",
       "<title>Tree</title>\n",
       "<polygon fill=\"white\" points=\"-4,4 -4,-429 962.5,-429 962.5,4 -4,4\" stroke=\"none\"/>\n",
       "<!-- 0 -->\n",
       "<g class=\"node\" id=\"node1\"><title>0</title>\n",
       "<polygon fill=\"none\" points=\"566.5,-425 375.5,-425 375.5,-342 566.5,-342 566.5,-425\" stroke=\"black\"/>\n",
       "<text font-family=\"Times New Roman,serif\" font-size=\"14.00\" text-anchor=\"middle\" x=\"471\" y=\"-409.8\">worst concave points &lt;= 0.142</text>\n",
       "<text font-family=\"Times New Roman,serif\" font-size=\"14.00\" text-anchor=\"middle\" x=\"471\" y=\"-394.8\">gini = 0.469</text>\n",
       "<text font-family=\"Times New Roman,serif\" font-size=\"14.00\" text-anchor=\"middle\" x=\"471\" y=\"-379.8\">samples = 426</text>\n",
       "<text font-family=\"Times New Roman,serif\" font-size=\"14.00\" text-anchor=\"middle\" x=\"471\" y=\"-364.8\">value = [160, 266]</text>\n",
       "<text font-family=\"Times New Roman,serif\" font-size=\"14.00\" text-anchor=\"middle\" x=\"471\" y=\"-349.8\">class = benign</text>\n",
       "</g>\n",
       "<!-- 1 -->\n",
       "<g class=\"node\" id=\"node2\"><title>1</title>\n",
       "<polygon fill=\"none\" points=\"447,-306 311,-306 311,-223 447,-223 447,-306\" stroke=\"black\"/>\n",
       "<text font-family=\"Times New Roman,serif\" font-size=\"14.00\" text-anchor=\"middle\" x=\"379\" y=\"-290.8\">worst area &lt;= 957.45</text>\n",
       "<text font-family=\"Times New Roman,serif\" font-size=\"14.00\" text-anchor=\"middle\" x=\"379\" y=\"-275.8\">gini = 0.14</text>\n",
       "<text font-family=\"Times New Roman,serif\" font-size=\"14.00\" text-anchor=\"middle\" x=\"379\" y=\"-260.8\">samples = 278</text>\n",
       "<text font-family=\"Times New Roman,serif\" font-size=\"14.00\" text-anchor=\"middle\" x=\"379\" y=\"-245.8\">value = [21, 257]</text>\n",
       "<text font-family=\"Times New Roman,serif\" font-size=\"14.00\" text-anchor=\"middle\" x=\"379\" y=\"-230.8\">class = benign</text>\n",
       "</g>\n",
       "<!-- 0&#45;&gt;1 -->\n",
       "<g class=\"edge\" id=\"edge1\"><title>0-&gt;1</title>\n",
       "<path d=\"M439.081,-341.907C432.016,-332.923 424.461,-323.315 417.176,-314.05\" fill=\"none\" stroke=\"black\"/>\n",
       "<polygon fill=\"black\" points=\"419.795,-311.718 410.863,-306.021 414.292,-316.045 419.795,-311.718\" stroke=\"black\"/>\n",
       "<text font-family=\"Times New Roman,serif\" font-size=\"14.00\" text-anchor=\"middle\" x=\"407.893\" y=\"-327.144\">True</text>\n",
       "</g>\n",
       "<!-- 8 -->\n",
       "<g class=\"node\" id=\"node9\"><title>8</title>\n",
       "<polygon fill=\"none\" points=\"628.5,-306 497.5,-306 497.5,-223 628.5,-223 628.5,-306\" stroke=\"black\"/>\n",
       "<text font-family=\"Times New Roman,serif\" font-size=\"14.00\" text-anchor=\"middle\" x=\"563\" y=\"-290.8\">area error &lt;= 21.925</text>\n",
       "<text font-family=\"Times New Roman,serif\" font-size=\"14.00\" text-anchor=\"middle\" x=\"563\" y=\"-275.8\">gini = 0.114</text>\n",
       "<text font-family=\"Times New Roman,serif\" font-size=\"14.00\" text-anchor=\"middle\" x=\"563\" y=\"-260.8\">samples = 148</text>\n",
       "<text font-family=\"Times New Roman,serif\" font-size=\"14.00\" text-anchor=\"middle\" x=\"563\" y=\"-245.8\">value = [139, 9]</text>\n",
       "<text font-family=\"Times New Roman,serif\" font-size=\"14.00\" text-anchor=\"middle\" x=\"563\" y=\"-230.8\">class = malignant</text>\n",
       "</g>\n",
       "<!-- 0&#45;&gt;8 -->\n",
       "<g class=\"edge\" id=\"edge8\"><title>0-&gt;8</title>\n",
       "<path d=\"M502.919,-341.907C509.984,-332.923 517.539,-323.315 524.824,-314.05\" fill=\"none\" stroke=\"black\"/>\n",
       "<polygon fill=\"black\" points=\"527.708,-316.045 531.137,-306.021 522.205,-311.718 527.708,-316.045\" stroke=\"black\"/>\n",
       "<text font-family=\"Times New Roman,serif\" font-size=\"14.00\" text-anchor=\"middle\" x=\"534.107\" y=\"-327.144\">False</text>\n",
       "</g>\n",
       "<!-- 2 -->\n",
       "<g class=\"node\" id=\"node3\"><title>2</title>\n",
       "<polygon fill=\"none\" points=\"236.5,-187 105.5,-187 105.5,-104 236.5,-104 236.5,-187\" stroke=\"black\"/>\n",
       "<text font-family=\"Times New Roman,serif\" font-size=\"14.00\" text-anchor=\"middle\" x=\"171\" y=\"-171.8\">area error &lt;= 35.435</text>\n",
       "<text font-family=\"Times New Roman,serif\" font-size=\"14.00\" text-anchor=\"middle\" x=\"171\" y=\"-156.8\">gini = 0.052</text>\n",
       "<text font-family=\"Times New Roman,serif\" font-size=\"14.00\" text-anchor=\"middle\" x=\"171\" y=\"-141.8\">samples = 262</text>\n",
       "<text font-family=\"Times New Roman,serif\" font-size=\"14.00\" text-anchor=\"middle\" x=\"171\" y=\"-126.8\">value = [7, 255]</text>\n",
       "<text font-family=\"Times New Roman,serif\" font-size=\"14.00\" text-anchor=\"middle\" x=\"171\" y=\"-111.8\">class = benign</text>\n",
       "</g>\n",
       "<!-- 1&#45;&gt;2 -->\n",
       "<g class=\"edge\" id=\"edge2\"><title>1-&gt;2</title>\n",
       "<path d=\"M310.893,-225.19C290.055,-213.469 267.027,-200.515 245.771,-188.559\" fill=\"none\" stroke=\"black\"/>\n",
       "<polygon fill=\"black\" points=\"247.213,-185.354 236.781,-183.502 243.781,-191.455 247.213,-185.354\" stroke=\"black\"/>\n",
       "</g>\n",
       "<!-- 5 -->\n",
       "<g class=\"node\" id=\"node6\"><title>5</title>\n",
       "<polygon fill=\"none\" points=\"458.5,-187 299.5,-187 299.5,-104 458.5,-104 458.5,-187\" stroke=\"black\"/>\n",
       "<text font-family=\"Times New Roman,serif\" font-size=\"14.00\" text-anchor=\"middle\" x=\"379\" y=\"-171.8\">mean symmetry &lt;= 0.151</text>\n",
       "<text font-family=\"Times New Roman,serif\" font-size=\"14.00\" text-anchor=\"middle\" x=\"379\" y=\"-156.8\">gini = 0.219</text>\n",
       "<text font-family=\"Times New Roman,serif\" font-size=\"14.00\" text-anchor=\"middle\" x=\"379\" y=\"-141.8\">samples = 16</text>\n",
       "<text font-family=\"Times New Roman,serif\" font-size=\"14.00\" text-anchor=\"middle\" x=\"379\" y=\"-126.8\">value = [14, 2]</text>\n",
       "<text font-family=\"Times New Roman,serif\" font-size=\"14.00\" text-anchor=\"middle\" x=\"379\" y=\"-111.8\">class = malignant</text>\n",
       "</g>\n",
       "<!-- 1&#45;&gt;5 -->\n",
       "<g class=\"edge\" id=\"edge5\"><title>1-&gt;5</title>\n",
       "<path d=\"M379,-222.907C379,-214.649 379,-205.864 379,-197.302\" fill=\"none\" stroke=\"black\"/>\n",
       "<polygon fill=\"black\" points=\"382.5,-197.021 379,-187.021 375.5,-197.021 382.5,-197.021\" stroke=\"black\"/>\n",
       "</g>\n",
       "<!-- 3 -->\n",
       "<g class=\"node\" id=\"node4\"><title>3</title>\n",
       "<polygon fill=\"none\" points=\"104,-68 0,-68 0,-0 104,-0 104,-68\" stroke=\"black\"/>\n",
       "<text font-family=\"Times New Roman,serif\" font-size=\"14.00\" text-anchor=\"middle\" x=\"52\" y=\"-52.8\">gini = 0.016</text>\n",
       "<text font-family=\"Times New Roman,serif\" font-size=\"14.00\" text-anchor=\"middle\" x=\"52\" y=\"-37.8\">samples = 243</text>\n",
       "<text font-family=\"Times New Roman,serif\" font-size=\"14.00\" text-anchor=\"middle\" x=\"52\" y=\"-22.8\">value = [2, 241]</text>\n",
       "<text font-family=\"Times New Roman,serif\" font-size=\"14.00\" text-anchor=\"middle\" x=\"52\" y=\"-7.8\">class = benign</text>\n",
       "</g>\n",
       "<!-- 2&#45;&gt;3 -->\n",
       "<g class=\"edge\" id=\"edge3\"><title>2-&gt;3</title>\n",
       "<path d=\"M126.689,-103.726C116.578,-94.423 105.841,-84.5428 95.7541,-75.2612\" fill=\"none\" stroke=\"black\"/>\n",
       "<polygon fill=\"black\" points=\"97.9173,-72.4953 88.1886,-68.2996 93.1774,-77.6464 97.9173,-72.4953\" stroke=\"black\"/>\n",
       "</g>\n",
       "<!-- 4 -->\n",
       "<g class=\"node\" id=\"node5\"><title>4</title>\n",
       "<polygon fill=\"none\" points=\"220,-68 122,-68 122,-0 220,-0 220,-68\" stroke=\"black\"/>\n",
       "<text font-family=\"Times New Roman,serif\" font-size=\"14.00\" text-anchor=\"middle\" x=\"171\" y=\"-52.8\">gini = 0.388</text>\n",
       "<text font-family=\"Times New Roman,serif\" font-size=\"14.00\" text-anchor=\"middle\" x=\"171\" y=\"-37.8\">samples = 19</text>\n",
       "<text font-family=\"Times New Roman,serif\" font-size=\"14.00\" text-anchor=\"middle\" x=\"171\" y=\"-22.8\">value = [5, 14]</text>\n",
       "<text font-family=\"Times New Roman,serif\" font-size=\"14.00\" text-anchor=\"middle\" x=\"171\" y=\"-7.8\">class = benign</text>\n",
       "</g>\n",
       "<!-- 2&#45;&gt;4 -->\n",
       "<g class=\"edge\" id=\"edge4\"><title>2-&gt;4</title>\n",
       "<path d=\"M171,-103.726C171,-95.5175 171,-86.8595 171,-78.56\" fill=\"none\" stroke=\"black\"/>\n",
       "<polygon fill=\"black\" points=\"174.5,-78.2996 171,-68.2996 167.5,-78.2996 174.5,-78.2996\" stroke=\"black\"/>\n",
       "</g>\n",
       "<!-- 6 -->\n",
       "<g class=\"node\" id=\"node7\"><title>6</title>\n",
       "<polygon fill=\"none\" points=\"335.5,-68 238.5,-68 238.5,-0 335.5,-0 335.5,-68\" stroke=\"black\"/>\n",
       "<text font-family=\"Times New Roman,serif\" font-size=\"14.00\" text-anchor=\"middle\" x=\"287\" y=\"-52.8\">gini = 0.444</text>\n",
       "<text font-family=\"Times New Roman,serif\" font-size=\"14.00\" text-anchor=\"middle\" x=\"287\" y=\"-37.8\">samples = 3</text>\n",
       "<text font-family=\"Times New Roman,serif\" font-size=\"14.00\" text-anchor=\"middle\" x=\"287\" y=\"-22.8\">value = [1, 2]</text>\n",
       "<text font-family=\"Times New Roman,serif\" font-size=\"14.00\" text-anchor=\"middle\" x=\"287\" y=\"-7.8\">class = benign</text>\n",
       "</g>\n",
       "<!-- 5&#45;&gt;6 -->\n",
       "<g class=\"edge\" id=\"edge6\"><title>5-&gt;6</title>\n",
       "<path d=\"M344.743,-103.726C337.156,-94.6966 329.113,-85.1235 321.516,-76.0816\" fill=\"none\" stroke=\"black\"/>\n",
       "<polygon fill=\"black\" points=\"324.09,-73.7045 314.978,-68.2996 318.731,-78.2075 324.09,-73.7045\" stroke=\"black\"/>\n",
       "</g>\n",
       "<!-- 7 -->\n",
       "<g class=\"node\" id=\"node8\"><title>7</title>\n",
       "<polygon fill=\"none\" points=\"466.5,-68 353.5,-68 353.5,-0 466.5,-0 466.5,-68\" stroke=\"black\"/>\n",
       "<text font-family=\"Times New Roman,serif\" font-size=\"14.00\" text-anchor=\"middle\" x=\"410\" y=\"-52.8\">gini = 0.0</text>\n",
       "<text font-family=\"Times New Roman,serif\" font-size=\"14.00\" text-anchor=\"middle\" x=\"410\" y=\"-37.8\">samples = 13</text>\n",
       "<text font-family=\"Times New Roman,serif\" font-size=\"14.00\" text-anchor=\"middle\" x=\"410\" y=\"-22.8\">value = [13, 0]</text>\n",
       "<text font-family=\"Times New Roman,serif\" font-size=\"14.00\" text-anchor=\"middle\" x=\"410\" y=\"-7.8\">class = malignant</text>\n",
       "</g>\n",
       "<!-- 5&#45;&gt;7 -->\n",
       "<g class=\"edge\" id=\"edge7\"><title>5-&gt;7</title>\n",
       "<path d=\"M390.543,-103.726C392.919,-95.3351 395.427,-86.4745 397.824,-78.0072\" fill=\"none\" stroke=\"black\"/>\n",
       "<polygon fill=\"black\" points=\"401.216,-78.8749 400.573,-68.2996 394.481,-76.968 401.216,-78.8749\" stroke=\"black\"/>\n",
       "</g>\n",
       "<!-- 9 -->\n",
       "<g class=\"node\" id=\"node10\"><title>9</title>\n",
       "<polygon fill=\"none\" points=\"634,-187 492,-187 492,-104 634,-104 634,-187\" stroke=\"black\"/>\n",
       "<text font-family=\"Times New Roman,serif\" font-size=\"14.00\" text-anchor=\"middle\" x=\"563\" y=\"-171.8\">mean texture &lt;= 18.79</text>\n",
       "<text font-family=\"Times New Roman,serif\" font-size=\"14.00\" text-anchor=\"middle\" x=\"563\" y=\"-156.8\">gini = 0.498</text>\n",
       "<text font-family=\"Times New Roman,serif\" font-size=\"14.00\" text-anchor=\"middle\" x=\"563\" y=\"-141.8\">samples = 15</text>\n",
       "<text font-family=\"Times New Roman,serif\" font-size=\"14.00\" text-anchor=\"middle\" x=\"563\" y=\"-126.8\">value = [7, 8]</text>\n",
       "<text font-family=\"Times New Roman,serif\" font-size=\"14.00\" text-anchor=\"middle\" x=\"563\" y=\"-111.8\">class = benign</text>\n",
       "</g>\n",
       "<!-- 8&#45;&gt;9 -->\n",
       "<g class=\"edge\" id=\"edge9\"><title>8-&gt;9</title>\n",
       "<path d=\"M563,-222.907C563,-214.649 563,-205.864 563,-197.302\" fill=\"none\" stroke=\"black\"/>\n",
       "<polygon fill=\"black\" points=\"566.5,-197.021 563,-187.021 559.5,-197.021 566.5,-197.021\" stroke=\"black\"/>\n",
       "</g>\n",
       "<!-- 12 -->\n",
       "<g class=\"node\" id=\"node13\"><title>12</title>\n",
       "<polygon fill=\"none\" points=\"865.5,-187 692.5,-187 692.5,-104 865.5,-104 865.5,-187\" stroke=\"black\"/>\n",
       "<text font-family=\"Times New Roman,serif\" font-size=\"14.00\" text-anchor=\"middle\" x=\"779\" y=\"-171.8\">worst smoothness &lt;= 0.097</text>\n",
       "<text font-family=\"Times New Roman,serif\" font-size=\"14.00\" text-anchor=\"middle\" x=\"779\" y=\"-156.8\">gini = 0.015</text>\n",
       "<text font-family=\"Times New Roman,serif\" font-size=\"14.00\" text-anchor=\"middle\" x=\"779\" y=\"-141.8\">samples = 133</text>\n",
       "<text font-family=\"Times New Roman,serif\" font-size=\"14.00\" text-anchor=\"middle\" x=\"779\" y=\"-126.8\">value = [132, 1]</text>\n",
       "<text font-family=\"Times New Roman,serif\" font-size=\"14.00\" text-anchor=\"middle\" x=\"779\" y=\"-111.8\">class = malignant</text>\n",
       "</g>\n",
       "<!-- 8&#45;&gt;12 -->\n",
       "<g class=\"edge\" id=\"edge12\"><title>8-&gt;12</title>\n",
       "<path d=\"M628.687,-227.92C649.632,-216.574 673.099,-203.863 695.15,-191.919\" fill=\"none\" stroke=\"black\"/>\n",
       "<polygon fill=\"black\" points=\"697.048,-194.871 704.173,-187.031 693.713,-188.716 697.048,-194.871\" stroke=\"black\"/>\n",
       "</g>\n",
       "<!-- 10 -->\n",
       "<g class=\"node\" id=\"node11\"><title>10</title>\n",
       "<polygon fill=\"none\" points=\"581.5,-68 484.5,-68 484.5,-0 581.5,-0 581.5,-68\" stroke=\"black\"/>\n",
       "<text font-family=\"Times New Roman,serif\" font-size=\"14.00\" text-anchor=\"middle\" x=\"533\" y=\"-52.8\">gini = 0.0</text>\n",
       "<text font-family=\"Times New Roman,serif\" font-size=\"14.00\" text-anchor=\"middle\" x=\"533\" y=\"-37.8\">samples = 7</text>\n",
       "<text font-family=\"Times New Roman,serif\" font-size=\"14.00\" text-anchor=\"middle\" x=\"533\" y=\"-22.8\">value = [0, 7]</text>\n",
       "<text font-family=\"Times New Roman,serif\" font-size=\"14.00\" text-anchor=\"middle\" x=\"533\" y=\"-7.8\">class = benign</text>\n",
       "</g>\n",
       "<!-- 9&#45;&gt;10 -->\n",
       "<g class=\"edge\" id=\"edge10\"><title>9-&gt;10</title>\n",
       "<path d=\"M551.829,-103.726C549.53,-95.3351 547.103,-86.4745 544.783,-78.0072\" fill=\"none\" stroke=\"black\"/>\n",
       "<polygon fill=\"black\" points=\"548.141,-77.0193 542.123,-68.2996 541.39,-78.869 548.141,-77.0193\" stroke=\"black\"/>\n",
       "</g>\n",
       "<!-- 11 -->\n",
       "<g class=\"node\" id=\"node12\"><title>11</title>\n",
       "<polygon fill=\"none\" points=\"712.5,-68 599.5,-68 599.5,-0 712.5,-0 712.5,-68\" stroke=\"black\"/>\n",
       "<text font-family=\"Times New Roman,serif\" font-size=\"14.00\" text-anchor=\"middle\" x=\"656\" y=\"-52.8\">gini = 0.219</text>\n",
       "<text font-family=\"Times New Roman,serif\" font-size=\"14.00\" text-anchor=\"middle\" x=\"656\" y=\"-37.8\">samples = 8</text>\n",
       "<text font-family=\"Times New Roman,serif\" font-size=\"14.00\" text-anchor=\"middle\" x=\"656\" y=\"-22.8\">value = [7, 1]</text>\n",
       "<text font-family=\"Times New Roman,serif\" font-size=\"14.00\" text-anchor=\"middle\" x=\"656\" y=\"-7.8\">class = malignant</text>\n",
       "</g>\n",
       "<!-- 9&#45;&gt;11 -->\n",
       "<g class=\"edge\" id=\"edge11\"><title>9-&gt;11</title>\n",
       "<path d=\"M597.63,-103.726C605.299,-94.6966 613.429,-85.1235 621.109,-76.0816\" fill=\"none\" stroke=\"black\"/>\n",
       "<polygon fill=\"black\" points=\"623.912,-78.1873 627.718,-68.2996 618.577,-73.6559 623.912,-78.1873\" stroke=\"black\"/>\n",
       "</g>\n",
       "<!-- 13 -->\n",
       "<g class=\"node\" id=\"node14\"><title>13</title>\n",
       "<polygon fill=\"none\" points=\"827.5,-68 730.5,-68 730.5,-0 827.5,-0 827.5,-68\" stroke=\"black\"/>\n",
       "<text font-family=\"Times New Roman,serif\" font-size=\"14.00\" text-anchor=\"middle\" x=\"779\" y=\"-52.8\">gini = 0.0</text>\n",
       "<text font-family=\"Times New Roman,serif\" font-size=\"14.00\" text-anchor=\"middle\" x=\"779\" y=\"-37.8\">samples = 1</text>\n",
       "<text font-family=\"Times New Roman,serif\" font-size=\"14.00\" text-anchor=\"middle\" x=\"779\" y=\"-22.8\">value = [0, 1]</text>\n",
       "<text font-family=\"Times New Roman,serif\" font-size=\"14.00\" text-anchor=\"middle\" x=\"779\" y=\"-7.8\">class = benign</text>\n",
       "</g>\n",
       "<!-- 12&#45;&gt;13 -->\n",
       "<g class=\"edge\" id=\"edge13\"><title>12-&gt;13</title>\n",
       "<path d=\"M779,-103.726C779,-95.5175 779,-86.8595 779,-78.56\" fill=\"none\" stroke=\"black\"/>\n",
       "<polygon fill=\"black\" points=\"782.5,-78.2996 779,-68.2996 775.5,-78.2996 782.5,-78.2996\" stroke=\"black\"/>\n",
       "</g>\n",
       "<!-- 14 -->\n",
       "<g class=\"node\" id=\"node15\"><title>14</title>\n",
       "<polygon fill=\"none\" points=\"958.5,-68 845.5,-68 845.5,-0 958.5,-0 958.5,-68\" stroke=\"black\"/>\n",
       "<text font-family=\"Times New Roman,serif\" font-size=\"14.00\" text-anchor=\"middle\" x=\"902\" y=\"-52.8\">gini = 0.0</text>\n",
       "<text font-family=\"Times New Roman,serif\" font-size=\"14.00\" text-anchor=\"middle\" x=\"902\" y=\"-37.8\">samples = 132</text>\n",
       "<text font-family=\"Times New Roman,serif\" font-size=\"14.00\" text-anchor=\"middle\" x=\"902\" y=\"-22.8\">value = [132, 0]</text>\n",
       "<text font-family=\"Times New Roman,serif\" font-size=\"14.00\" text-anchor=\"middle\" x=\"902\" y=\"-7.8\">class = malignant</text>\n",
       "</g>\n",
       "<!-- 12&#45;&gt;14 -->\n",
       "<g class=\"edge\" id=\"edge14\"><title>12-&gt;14</title>\n",
       "<path d=\"M824.801,-103.726C835.353,-94.3318 846.567,-84.349 857.082,-74.9883\" fill=\"none\" stroke=\"black\"/>\n",
       "<polygon fill=\"black\" points=\"859.453,-77.5631 864.595,-68.2996 854.799,-72.3347 859.453,-77.5631\" stroke=\"black\"/>\n",
       "</g>\n",
       "</g>\n",
       "</svg>"
      ],
      "text/plain": [
       "<IPython.core.display.SVG object>"
      ]
     },
     "execution_count": 6,
     "metadata": {},
     "output_type": "execute_result"
    }
   ],
   "source": [
    "from graphviz import Source\n",
    "from sklearn.tree import export_graphviz\n",
    "from IPython.display import SVG\n",
    "\n",
    "graph = Source(export_graphviz(clf, out_file=None, feature_names=cancer.feature_names, class_names=cancer.target_names))\n",
    "SVG(graph.pipe(format='svg'))\n"
   ]
  }
 ],
 "metadata": {
  "kernelspec": {
   "display_name": "Python 3",
   "language": "python",
   "name": "python3"
  },
  "language_info": {
   "codemirror_mode": {
    "name": "ipython",
    "version": 3
   },
   "file_extension": ".py",
   "mimetype": "text/x-python",
   "name": "python",
   "nbconvert_exporter": "python",
   "pygments_lexer": "ipython3",
   "version": "3.6.3"
  }
 },
 "nbformat": 4,
 "nbformat_minor": 2
}
