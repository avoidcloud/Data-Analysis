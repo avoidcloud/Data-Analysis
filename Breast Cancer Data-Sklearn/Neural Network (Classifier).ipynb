{
 "cells": [
  {
   "cell_type": "code",
   "execution_count": 1,
   "metadata": {},
   "outputs": [],
   "source": [
    "from sklearn.neural_network import MLPClassifier\n",
    "from sklearn.datasets import load_breast_cancer\n",
    "from sklearn.model_selection import train_test_split\n",
    "from sklearn.preprocessing import StandardScaler\n",
    "from matplotlib import pyplot as graph"
   ]
  },
  {
   "cell_type": "code",
   "execution_count": 2,
   "metadata": {
    "scrolled": true
   },
   "outputs": [],
   "source": [
    "cancer = load_breast_cancer()\n",
    "\n",
    "trainX, testX = train_test_split(cancer.data, random_state=0)\n",
    "trainY, testY = train_test_split(cancer.target,random_state=0)"
   ]
  },
  {
   "cell_type": "markdown",
   "metadata": {},
   "source": [
    "#### Default parameter for Neural Network MLP Classifier\n",
    "    MLPClassifier(activation='relu', alpha=0.0001, batch_size='auto', beta_1=0.9,\n",
    "       beta_2=0.999, early_stopping=False, epsilon=1e-08,\n",
    "       hidden_layer_sizes=(100,), learning_rate='constant',\n",
    "       learning_rate_init=0.001, max_iter=200, momentum=0.9,\n",
    "       nesterovs_momentum=True, power_t=0.5, random_state=42, shuffle=True,\n",
    "       solver='adam', tol=0.0001, validation_fraction=0.1, verbose=False,\n",
    "       warm_start=False)"
   ]
  },
  {
   "cell_type": "code",
   "execution_count": 3,
   "metadata": {},
   "outputs": [
    {
     "name": "stdout",
     "output_type": "stream",
     "text": [
      "Trainning data score: 0.90610\n",
      "Testing data score: 0.88112\n"
     ]
    }
   ],
   "source": [
    "clf = MLPClassifier(random_state=42)\n",
    "clf.fit(trainX,trainY)\n",
    "\n",
    "print('Trainning data score: {:.5f}'.format(clf.score(trainX,trainY)))\n",
    "print('Testing data score: {:.5f}'.format(clf.score(testX,testY)))"
   ]
  },
  {
   "cell_type": "code",
   "execution_count": 4,
   "metadata": {},
   "outputs": [
    {
     "name": "stdout",
     "output_type": "stream",
     "text": [
      "Trainning data score: 0.88028\n",
      "Testing data score: 0.86014\n"
     ]
    }
   ],
   "source": [
    "clf = MLPClassifier(random_state=30,hidden_layer_sizes=120)\n",
    "clf.fit(trainX,trainY)\n",
    "\n",
    "print('Trainning data score: {:.5f}'.format(clf.score(trainX,trainY)))\n",
    "print('Testing data score: {:.5f}'.format(clf.score(testX,testY)))"
   ]
  },
  {
   "cell_type": "code",
   "execution_count": 5,
   "metadata": {},
   "outputs": [
    {
     "name": "stdout",
     "output_type": "stream",
     "text": [
      "Trainning data score: 0.87793\n",
      "Testing data score: 0.87413\n"
     ]
    }
   ],
   "source": [
    "clf = MLPClassifier(random_state=60,hidden_layer_sizes=120)\n",
    "clf.fit(trainX,trainY)\n",
    "\n",
    "print('Trainning data score: {:.5f}'.format(clf.score(trainX,trainY)))\n",
    "print('Testing data score: {:.5f}'.format(clf.score(testX,testY)))"
   ]
  },
  {
   "cell_type": "markdown",
   "metadata": {},
   "source": [
    "#### MLP classifer is scale sensitive\n",
    "    Scale the feature data before use in MLP classifier\n",
    "    In cancer data set, all feature are not in an average scale. \n",
    "    There are some features with large value"
   ]
  },
  {
   "cell_type": "code",
   "execution_count": 6,
   "metadata": {},
   "outputs": [
    {
     "data": {
      "image/png": "[encoded data removed]",
      "text/plain": [
       "<matplotlib.figure.Figure at 0xe2ee470>"
      ]
     },
     "metadata": {},
     "output_type": "display_data"
    }
   ],
   "source": [
    "graph.plot(cancer.data[0])\n",
    "graph.xlabel('Features')\n",
    "graph.show()"
   ]
  },
  {
   "cell_type": "code",
   "execution_count": 7,
   "metadata": {},
   "outputs": [],
   "source": [
    "scale = StandardScaler()\n",
    "\n",
    "scaled_trainX = scale.fit_transform(trainX)\n",
    "scaled_testX = scale.fit_transform(testX)"
   ]
  },
  {
   "cell_type": "code",
   "execution_count": 8,
   "metadata": {},
   "outputs": [
    {
     "name": "stdout",
     "output_type": "stream",
     "text": [
      "Scaled score of training data: 0.99061\n",
      "Scaled score of testing data: 0.95105\n"
     ]
    }
   ],
   "source": [
    "clf = MLPClassifier(random_state=30, max_iter=500)\n",
    "clf.fit(scaled_trainX, trainY)\n",
    "\n",
    "print('Scaled score of training data: {:.5f}'.format(clf.score(scaled_trainX,trainY)))\n",
    "print('Scaled score of testing data: {:.5f}'.format(clf.score(scaled_testX,testY)))"
   ]
  },
  {
   "cell_type": "code",
   "execution_count": 9,
   "metadata": {},
   "outputs": [
    {
     "name": "stdout",
     "output_type": "stream",
     "text": [
      "Scaled score of training data: 0.98826\n",
      "Scaled score of testing data: 0.97203\n"
     ]
    }
   ],
   "source": [
    "clf = MLPClassifier(random_state=60, max_iter=1000, alpha=1)\n",
    "clf.fit(scaled_trainX, trainY)\n",
    "\n",
    "print('Scaled score of training data: {:.5f}'.format(clf.score(scaled_trainX,trainY)))\n",
    "print('Scaled score of testing data: {:.5f}'.format(clf.score(scaled_testX,testY)))"
   ]
  }
 ],
 "metadata": {
  "kernelspec": {
   "display_name": "Python 3",
   "language": "python",
   "name": "python3"
  },
  "language_info": {
   "codemirror_mode": {
    "name": "ipython",
    "version": 3
   },
   "file_extension": ".py",
   "mimetype": "text/x-python",
   "name": "python",
   "nbconvert_exporter": "python",
   "pygments_lexer": "ipython3",
   "version": "3.6.3"
  }
 },
 "nbformat": 4,
 "nbformat_minor": 2
}
