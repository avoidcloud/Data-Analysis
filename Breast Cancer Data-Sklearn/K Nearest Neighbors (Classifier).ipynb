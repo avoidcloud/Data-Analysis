{
 "cells": [
  {
   "cell_type": "code",
   "execution_count": 1,
   "metadata": {},
   "outputs": [],
   "source": [
    "from sklearn.neighbors import KNeighborsClassifier\n",
    "from sklearn.datasets import load_breast_cancer\n",
    "from sklearn.model_selection import train_test_split\n",
    "from matplotlib import pyplot as graph"
   ]
  },
  {
   "cell_type": "code",
   "execution_count": 2,
   "metadata": {
    "scrolled": true
   },
   "outputs": [],
   "source": [
    "cancer = load_breast_cancer()\n",
    "trainX, testX = train_test_split(cancer.data) \n",
    "trainY, testY = train_test_split(cancer.target)"
   ]
  },
  {
   "cell_type": "markdown",
   "metadata": {},
   "source": [
    " #### Default parameter in K Nearest Neighbors (k=5)\n",
    "    KNeighborsClassifier(algorithm='auto', leaf_size=30, metric='minkowski',\n",
    "           metric_params=None, n_jobs=1, n_neighbors=5, p=2,\n",
    "           weights='uniform')"
   ]
  },
  {
   "cell_type": "code",
   "execution_count": 3,
   "metadata": {},
   "outputs": [
    {
     "name": "stdout",
     "output_type": "stream",
     "text": [
      "Accuracy of training data : 0.70188\n",
      "Accuracy of testing data : 0.52448\n"
     ]
    }
   ],
   "source": [
    "clf = KNeighborsClassifier()\n",
    "clf.fit(trainX,trainY)\n",
    "print('Accuracy of training data : {:.5f}'.format(clf.score(trainX,trainY)))\n",
    "print('Accuracy of testing data : {:.5f}'.format(clf.score(testX,testY)))"
   ]
  },
  {
   "cell_type": "markdown",
   "metadata": {},
   "source": [
    "<h4 align = center> Change the n_neighbors parameter and random state in split</h4>"
   ]
  },
  {
   "cell_type": "code",
   "execution_count": 4,
   "metadata": {},
   "outputs": [
    {
     "name": "stdout",
     "output_type": "stream",
     "text": [
      "K = 10 and No random_state in split\n",
      "Accuracy of training data : 0.67606\n",
      "Accuracy of testing data : 0.50350\n"
     ]
    }
   ],
   "source": [
    "clf = KNeighborsClassifier(n_neighbors=10)\n",
    "clf.fit(trainX,trainY)\n",
    "print('K = 10 and No random_state in split')\n",
    "print('Accuracy of training data : {:.5f}'.format(clf.score(trainX,trainY)))\n",
    "print('Accuracy of testing data : {:.5f}'.format(clf.score(testX,testY)))"
   ]
  },
  {
   "cell_type": "code",
   "execution_count": 5,
   "metadata": {},
   "outputs": [
    {
     "name": "stdout",
     "output_type": "stream",
     "text": [
      "K = 2 and No random_state in split\n",
      "Accuracy of training data : 0.79108\n",
      "Accuracy of testing data : 0.45455\n"
     ]
    }
   ],
   "source": [
    "clf = KNeighborsClassifier(n_neighbors=2)\n",
    "clf.fit(trainX,trainY)\n",
    "print('K = 2 and No random_state in split')\n",
    "print('Accuracy of training data : {:.5f}'.format(clf.score(trainX,trainY)))\n",
    "print('Accuracy of testing data : {:.5f}'.format(clf.score(testX,testY)))"
   ]
  },
  {
   "cell_type": "code",
   "execution_count": 6,
   "metadata": {},
   "outputs": [],
   "source": [
    "trainX, testX = train_test_split(cancer.data, random_state=30) \n",
    "trainY, testY = train_test_split(cancer.target, random_state=30)"
   ]
  },
  {
   "cell_type": "code",
   "execution_count": 7,
   "metadata": {},
   "outputs": [
    {
     "name": "stdout",
     "output_type": "stream",
     "text": [
      "K = 5 and random_state in split = 30\n",
      "Accuracy of training data : 0.94601\n",
      "Accuracy of testing data : 0.92308\n"
     ]
    }
   ],
   "source": [
    "clf = KNeighborsClassifier()\n",
    "clf.fit(trainX,trainY)\n",
    "print('K = 5 and random_state in split = 30')\n",
    "print('Accuracy of training data : {:.5f}'.format(clf.score(trainX,trainY)))\n",
    "print('Accuracy of testing data : {:.5f}'.format(clf.score(testX,testY)))"
   ]
  },
  {
   "cell_type": "code",
   "execution_count": 8,
   "metadata": {},
   "outputs": [
    {
     "name": "stdout",
     "output_type": "stream",
     "text": [
      "K = 2 and random_state in split = 30\n",
      "Accuracy of training data : 0.96948\n",
      "Accuracy of testing data : 0.92308\n"
     ]
    }
   ],
   "source": [
    "clf = KNeighborsClassifier(n_neighbors=2)\n",
    "clf.fit(trainX,trainY)\n",
    "print('K = 2 and random_state in split = 30')\n",
    "print('Accuracy of training data : {:.5f}'.format(clf.score(trainX,trainY)))\n",
    "print('Accuracy of testing data : {:.5f}'.format(clf.score(testX,testY)))"
   ]
  },
  {
   "cell_type": "code",
   "execution_count": 9,
   "metadata": {},
   "outputs": [
    {
     "name": "stdout",
     "output_type": "stream",
     "text": [
      "K = 10 and random_state in split = 30\n",
      "Accuracy of training data : 0.94601\n",
      "Accuracy of testing data : 0.93706\n"
     ]
    }
   ],
   "source": [
    "clf = KNeighborsClassifier(n_neighbors=10)\n",
    "clf.fit(trainX,trainY)\n",
    "print('K = 10 and random_state in split = 30')\n",
    "print('Accuracy of training data : {:.5f}'.format(clf.score(trainX,trainY)))\n",
    "print('Accuracy of testing data : {:.5f}'.format(clf.score(testX,testY)))"
   ]
  },
  {
   "cell_type": "code",
   "execution_count": 10,
   "metadata": {},
   "outputs": [
    {
     "name": "stdout",
     "output_type": "stream",
     "text": [
      "K = 50 and random_state in split = 30\n",
      "Accuracy of training data : 0.91784\n",
      "Accuracy of testing data : 0.90909\n"
     ]
    }
   ],
   "source": [
    "clf = KNeighborsClassifier(n_neighbors=50)\n",
    "clf.fit(trainX,trainY)\n",
    "print('K = 50 and random_state in split = 30')\n",
    "print('Accuracy of training data : {:.5f}'.format(clf.score(trainX,trainY)))\n",
    "print('Accuracy of testing data : {:.5f}'.format(clf.score(testX,testY)))"
   ]
  },
  {
   "cell_type": "code",
   "execution_count": 11,
   "metadata": {},
   "outputs": [],
   "source": [
    "trainX, testX = train_test_split(cancer.data, random_state=60) \n",
    "trainY, testY = train_test_split(cancer.target, random_state=60)"
   ]
  },
  {
   "cell_type": "code",
   "execution_count": 12,
   "metadata": {},
   "outputs": [
    {
     "name": "stdout",
     "output_type": "stream",
     "text": [
      "K = 5 and random_state in split = 60\n",
      "Accuracy of training data : 0.93662\n",
      "Accuracy of testing data : 0.95804\n"
     ]
    }
   ],
   "source": [
    "clf = KNeighborsClassifier()\n",
    "clf.fit(trainX,trainY)\n",
    "print('K = 5 and random_state in split = 60')\n",
    "print('Accuracy of training data : {:.5f}'.format(clf.score(trainX,trainY)))\n",
    "print('Accuracy of testing data : {:.5f}'.format(clf.score(testX,testY)))"
   ]
  },
  {
   "cell_type": "code",
   "execution_count": 13,
   "metadata": {},
   "outputs": [
    {
     "name": "stdout",
     "output_type": "stream",
     "text": [
      "K = 10 and random_state in split = 60\n",
      "Accuracy of training data : 0.92723\n",
      "Accuracy of testing data : 0.96503\n"
     ]
    }
   ],
   "source": [
    "clf = KNeighborsClassifier(n_neighbors=10)\n",
    "clf.fit(trainX,trainY)\n",
    "print('K = 10 and random_state in split = 60')\n",
    "print('Accuracy of training data : {:.5f}'.format(clf.score(trainX,trainY)))\n",
    "print('Accuracy of testing data : {:.5f}'.format(clf.score(testX,testY)))"
   ]
  },
  {
   "cell_type": "markdown",
   "metadata": {},
   "source": [
    "<h4>Find out all scores for k = 1 to 50 when random state = 30, then compare the difference between training scores and testing score for find out the perfecr neightbor </h4>"
   ]
  },
  {
   "cell_type": "code",
   "execution_count": 14,
   "metadata": {},
   "outputs": [
    {
     "name": "stdout",
     "output_type": "stream",
     "text": [
      "Best neighbor for prediction :  43\n",
      "Difference between training and testing score : 0.0018\n"
     ]
    },
    {
     "data": {
      "image/png": "[encoded data removed]",
      "text/plain": [
       "<matplotlib.figure.Figure at 0xef4c2f0>"
      ]
     },
     "metadata": {},
     "output_type": "display_data"
    }
   ],
   "source": [
    "trainX, testX = train_test_split(cancer.data, random_state=30) \n",
    "trainY, testY = train_test_split(cancer.target, random_state=30)\n",
    "\n",
    "training_scores = []\n",
    "testing_scores = []\n",
    "\n",
    "for k in range(1,50,1):\n",
    "\tclf = KNeighborsClassifier(n_neighbors=k)\n",
    "\tclf.fit(trainX,trainY)\n",
    "\ttraining_scores.append(clf.score(trainX,trainY))\n",
    "\ttesting_scores.append(clf.score(testX,testY))\n",
    "\n",
    "\n",
    "\n",
    "def getPerfectK(training_scores, testing_scores):\n",
    "\tmin_dif = 1\n",
    "\tk = 1\n",
    "\tfor i in range(1,len(training_scores),1):\n",
    "\t\tdif = training_scores[i] - testing_scores[i]\n",
    "\t\tif(dif < min_dif):\n",
    "\t\t\tmin_dif = dif\n",
    "\t\t\tk = i\n",
    "\n",
    "\treturn k, min_dif\n",
    "\n",
    "perfect_k, dif = getPerfectK(training_scores, testing_scores)\n",
    "\n",
    "print('Best neighbor for prediction : ',perfect_k)\n",
    "print('Difference between training and testing score : {:.4f}'.format(dif))\n",
    "\n",
    "graph.plot(training_scores)\n",
    "graph.plot(testing_scores)\n",
    "graph.show()"
   ]
  }
 ],
 "metadata": {
  "kernelspec": {
   "display_name": "Python 3",
   "language": "python",
   "name": "python3"
  },
  "language_info": {
   "codemirror_mode": {
    "name": "ipython",
    "version": 3
   },
   "file_extension": ".py",
   "mimetype": "text/x-python",
   "name": "python",
   "nbconvert_exporter": "python",
   "pygments_lexer": "ipython3",
   "version": "3.6.3"
  }
 },
 "nbformat": 4,
 "nbformat_minor": 2
}
