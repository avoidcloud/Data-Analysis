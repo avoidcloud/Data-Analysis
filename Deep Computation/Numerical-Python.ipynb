{
 "cells": [
  {
   "cell_type": "markdown",
   "metadata": {},
   "source": [
    "<h3 align=center><font color=\"darkgreen\" size=\"12\">NumPy</h3>\n",
    "<h4 align=center>Numerical python package is stand for make numerical computation more easy by providing a lot of mathematical arrangement and functionality. Numpy package allow us to create multi-dimensional arrays and and thier usfull functionality</h4>"
   ]
  },
  {
   "cell_type": "markdown",
   "metadata": {},
   "source": [
    "<br>"
   ]
  },
  {
   "cell_type": "markdown",
   "metadata": {},
   "source": [
    "<b>Dimension</b>\n",
    "\n",
    "    Dimension of a mathematical shape is informally defined as the minimum number of co-ordinates\n",
    "    needed to spacify any point within it. Like, the inside of a cube, cylinder, or a sphere \n",
    "    is three dimension because three co-ordinates (x,y,z) are needed to locate a point with in \n",
    "    these spaces. Similarly for a circle there need two co-ordinates (x,y);so, circle is two dimension\n",
    "    (-Wikipedia)\n",
    "   \n",
    "<br>\n",
    "<b>Shape and n-D Array</b>\n",
    "    \n",
    "    Array can be 1D,2D,3D or nD on the otherhand matrix is 2D representation of an array\n",
    "    \n",
    "    [\n",
    "        [\n",
    "            [1,2,3],[1,2,3],[1,2,3]\n",
    "        ],\n",
    "        [\n",
    "            [4,5,6],[4,5,6],[4,5,6]\n",
    "        ]\n",
    "    ]\n",
    "    this is 3D or 3-dimensional array which shape is (2*3*3)\n",
    "    \n",
    "    \n",
    "<br>\n",
    "<b>Matrix and Vector</b>\n",
    "\n",
    "    A matrix is simply a rectangular array of numbers and a vector is a row or a column of a matrix;\n",
    "    for a (n*m) shaped matrix a vector can be considered  as (n*1) or (1*m) shaped matrix.\n",
    "    (-Quora)\n",
    "    \n",
    "<br>\n",
    "<b>Numpy axis</b> \n",
    "\n",
    "    In Numpy dimensions are called axis. The number of axis is rank. For example, the co-ordinates\n",
    "    of a point in 3D space(x,y,z) [2,3,5] is an array of rank 1 because this is an 1D array and so\n",
    "    that it has one axis. That axis has a lenght of 3.Representation of this array:\n",
    "    [\n",
    "        2,\n",
    "        3,\n",
    "        5\n",
    "    ]\n",
    "    So, shape is (3,0) or (3,)\n",
    "    \n",
    "    axis(-1) or last axis refer the row; it comes like this (... <-depth <-column <-row)\n",
    "    The more dimensional we have the the more axis we have to handle. So it is important \n",
    "    to visualize or imagine the dimensionality \n",
    "    \n",
    "    [\n",
    "        [0,0,0],\n",
    "        [1,2,3],\n",
    "        [2,2,2],\n",
    "        [9,9,9]\n",
    "    ] \n",
    "    this is a matrix or a 2D array which represent 4 points of a **3D geometrical space** and shape (4,3).\n",
    "    Dimension of this array is 2. \n",
    "   <b><font color=\"red\">Don't mix up array's dimension and geometrical dimension.</b>"
   ]
  },
  {
   "cell_type": "code",
   "execution_count": 1,
   "metadata": {},
   "outputs": [],
   "source": [
    "import numpy as np"
   ]
  },
  {
   "cell_type": "markdown",
   "metadata": {},
   "source": [
    "<br>\n",
    "<b>Data Types</b>\n",
    "    \n",
    "    Integers: np.int8, np.int16, np.int32, np.int64\n",
    "    Fractions: np.float16, np.float32, np.float64\n",
    "    Complex: np.complex64, np.complex128\n",
    "    Others: np.bool\n",
    "<br>\n",
    "<b>Arrays</b>\n",
    "    \n",
    "    >>arr = numpy.array(lists, dtype=None)\n",
    "    this api format of array is use most. where lists is python list and dtype is numpy\n",
    "    datatype. default integer is np.int32 and fraction is np.float64\n",
    "    >>arr.dtype\n",
    "    this state will return the data type of this array\n",
    "    >>arr.ndim\n",
    "    this will return the array dimension\n",
    "    >>arr.shape \n",
    "    this will return the array shape\n",
    "    >>arr.size\n",
    "    this will return the size or more precisely the total amount of base element;\n",
    "    like, array([[1,2],[3,1]]) for this size=4 (number of total dtype element)\n",
    "    >>arr.reshape(new_shape)\n",
    "    this api will return the new shape of our array.\n",
    "    *** the arrangement of new and old shape must be equal; like we have a (2*3) shaped\n",
    "    array, our new shape can be (3*2), (1,6), (6,1) as because\n",
    "    2*3 = 3*2 = 1*6 = 6*1 = 6 (number of size)"
   ]
  },
  {
   "cell_type": "code",
   "execution_count": 2,
   "metadata": {},
   "outputs": [
    {
     "name": "stdout",
     "output_type": "stream",
     "text": [
      "float32\n",
      "1\n",
      "(4,)\n",
      "4\n"
     ]
    }
   ],
   "source": [
    "a = np.array([1,4,2,6], dtype=np.float32) #defining an numpy array with custom data type\n",
    "print(a.dtype) #print out the data type\n",
    "print(a.ndim) #print out the dimension of this array\n",
    "print(a.shape) #print out the shape of this array\n",
    "print(a.size) #print out the total number of element"
   ]
  },
  {
   "cell_type": "code",
   "execution_count": 3,
   "metadata": {},
   "outputs": [
    {
     "name": "stdout",
     "output_type": "stream",
     "text": [
      "(4, 2)\n",
      "2\n",
      "(2, 2, 2)\n",
      "3\n",
      "[[[1 3]\n",
      "  [4 4]]\n",
      "\n",
      " [[5 2]\n",
      "  [9 7]]]\n"
     ]
    }
   ],
   "source": [
    "a = np.array([[1,3],[4,4],[5,2],[9,7]]) #defining a new numpy array\n",
    "print(a.shape) #print out its shape\n",
    "print(a.ndim) #print out its dimension\n",
    "a = a.reshape((2,2,2)) #reshape the array and store it\n",
    "print(a.shape) #print out the new shape\n",
    "print(a.ndim) #print out the new dimension\n",
    "print(a) #print out the new array"
   ]
  },
  {
   "cell_type": "markdown",
   "metadata": {},
   "source": [
    "<br>\n",
    "<b>Array create</b>\n",
    "\n",
    "    >>numpy.arange(start=0, stop=None, step=1, dtype=None)\n",
    "    this api allow us to create a 1D array with defined range and steps.\n",
    "    Like for start=2, stop=5 -> array(2,3,4) and for start=1, stop=7, step=2 ->\n",
    "    array(1,3,5).\n",
    "    >>numpy.arange(5)\n",
    "    this will create an array like this -> (0,1,2,3,4)\n",
    "    \n",
    "    To create a multidensional array just use reshape() method after arange an array.\n",
    "    >>numpy.arange(6).reshape((2,3))\n",
    "    this script will return an array like this -> ([[0,1,2],[3,4,5]])\n",
    "    Remember (stop-start)/step must be equal to product of the shape. Like for n*m shape\n",
    "    (stop-start)/step = n*m\n",
    "    \n",
    "    For fractional steps like start=1, stop=13, step=3.53 then, use float data types\n",
    "    otherwise use start=1.0 or stop=13.0. Nor program will get an error\n",
    "    \n",
    "    >>numpy.zeros(shape)\n",
    "    this api will return a defined shaped array - elements of zeros\n",
    "    >>numpy.ones(shape)\n",
    "    this api will return a defined shaped array - elements of ones"
   ]
  },
  {
   "cell_type": "code",
   "execution_count": 4,
   "metadata": {},
   "outputs": [
    {
     "name": "stdout",
     "output_type": "stream",
     "text": [
      "[1.  5.3 9.6]\n",
      "[30.  34.5 39.  43.5]\n",
      "[30.  34.5 39.  43.5]\n",
      "[30.  34.5 39.  43.5]\n"
     ]
    }
   ],
   "source": [
    "print(np.arange(start=1,step=4.3,dtype=np.float32,stop=13)) #unordered params with defined args name\n",
    "print(np.arange(30,45,4.5,np.float32)) #ordered params with undefined args name\n",
    "print(np.arange(30.0,45,4.5)) #using start as fraction for fractional steps\n",
    "print(np.arange(30,45.0,4.5)) #using stop as fraction for fractional steps"
   ]
  },
  {
   "cell_type": "code",
   "execution_count": 5,
   "metadata": {},
   "outputs": [
    {
     "name": "stdout",
     "output_type": "stream",
     "text": [
      "[[0 1 2]\n",
      " [3 4 5]]\n",
      "[[0 1 2 3]\n",
      " [4 5 6 7]]\n"
     ]
    }
   ],
   "source": [
    "print(np.arange(6).reshape(2,3)) #creating a 2D array with defined shape and size\n",
    "print(np.arange(2*4).reshape(2,4)) #creating an array more precisely "
   ]
  },
  {
   "cell_type": "code",
   "execution_count": 6,
   "metadata": {},
   "outputs": [
    {
     "name": "stdout",
     "output_type": "stream",
     "text": [
      "zeros:\n",
      " [[0. 0. 0. 0.]\n",
      " [0. 0. 0. 0.]\n",
      " [0. 0. 0. 0.]]\n",
      "ones:\n",
      " [[1. 1. 1.]\n",
      " [1. 1. 1.]\n",
      " [1. 1. 1.]]\n"
     ]
    }
   ],
   "source": [
    "print('zeros:\\n',np.zeros((3,4)))\n",
    "print('ones:\\n',np.ones((3,3)))\n",
    "      "
   ]
  },
  {
   "cell_type": "markdown",
   "metadata": {},
   "source": [
    "<br>\n",
    "<b>Sorting</b>\n",
    "\n",
    "    >>arr = numpy.array([4,1,2,0])\n",
    "    >>numpy.sort(arr)\n",
    "    this api return a sorted copy of this array; this is a simple form of numpy sort\n",
    "    \n",
    "    >>numpy.sort(arr, axis=-1, kind='quicksort', order=None)\n",
    "    this is the default sort api form where arr is the array to be sorted, axis=-1 refer the \n",
    "    row of the array use for comparism and kind refer the sorting algorithm to be followed and \n",
    "    order is for dictionary,map or list type array where key is used as the base of comparism; like\n",
    "    we have a string array of 10 human data where we have their age, id and name, so this 3 key can be\n",
    "    use for ordering the array or sorting.\n",
    "    \n",
    "    Numpy has 3 kind of sorting algorithm: 'quicksort'(default), 'mergesort' and 'heapsort'.\n",
    "    \n",
    "    The most important things of this sort api is the axis. For example we take an array \n",
    "    [\n",
    "        [\n",
    "            [4,3,5],\n",
    "            [2,3,4]\n",
    "        ],\n",
    "        [\n",
    "            [1,2,3],\n",
    "            [2,6,3]\n",
    "        ]\n",
    "    ]\n",
    "    this is a 3-dimensional array of shaped (2,2,3), so there are 3 axes here-axis(0),axis(1) and axis(2)\n",
    "    where axis(2) or axis(-1)=row relation, axis(1)=column relation and axis(0)=depth relation. If we have \n",
    "    greater than 3-dimension then there will more dimensional relation here.\n",
    "    Here we try to visualize the relation between axes and how to be sorted by this relation\n",
    "<img src='resources/axis_relation.jpg' heigh=200px width=800px, align='left'>"
   ]
  },
  {
   "cell_type": "code",
   "execution_count": 7,
   "metadata": {},
   "outputs": [
    {
     "name": "stdout",
     "output_type": "stream",
     "text": [
      "(2, 2, 3)\n",
      "3\n"
     ]
    }
   ],
   "source": [
    "arr = np.array([[[4,3,5],[2,3,4]],[[1,2,3],[2,6,3]]]) #defining the array\n",
    "print(arr.shape) #print out the shape of this array\n",
    "print(arr.ndim) #print out the dimension of this array"
   ]
  },
  {
   "cell_type": "code",
   "execution_count": 8,
   "metadata": {},
   "outputs": [
    {
     "data": {
      "text/plain": [
       "array([[[3, 4, 5],\n",
       "        [2, 3, 4]],\n",
       "\n",
       "       [[1, 2, 3],\n",
       "        [2, 3, 6]]])"
      ]
     },
     "execution_count": 8,
     "metadata": {},
     "output_type": "execute_result"
    }
   ],
   "source": [
    "np.sort(arr) #sort the array with default axis(-1) or based on row-relation"
   ]
  },
  {
   "cell_type": "code",
   "execution_count": 9,
   "metadata": {},
   "outputs": [
    {
     "data": {
      "text/plain": [
       "array([[[3, 4, 5],\n",
       "        [2, 3, 4]],\n",
       "\n",
       "       [[1, 2, 3],\n",
       "        [2, 3, 6]]])"
      ]
     },
     "execution_count": 9,
     "metadata": {},
     "output_type": "execute_result"
    }
   ],
   "source": [
    "np.sort(arr, axis=2) #sort the array with axis(2) which is already have done by axis(-1)"
   ]
  },
  {
   "cell_type": "code",
   "execution_count": 10,
   "metadata": {},
   "outputs": [
    {
     "data": {
      "text/plain": [
       "array([[[2, 3, 4],\n",
       "        [4, 3, 5]],\n",
       "\n",
       "       [[1, 2, 3],\n",
       "        [2, 6, 3]]])"
      ]
     },
     "execution_count": 10,
     "metadata": {},
     "output_type": "execute_result"
    }
   ],
   "source": [
    "np.sort(arr, axis=1) #sort the array with the axis(1) or based on column-relation"
   ]
  },
  {
   "cell_type": "code",
   "execution_count": 11,
   "metadata": {
    "scrolled": true
   },
   "outputs": [
    {
     "data": {
      "text/plain": [
       "array([[[1, 2, 3],\n",
       "        [2, 3, 3]],\n",
       "\n",
       "       [[4, 3, 5],\n",
       "        [2, 6, 4]]])"
      ]
     },
     "execution_count": 11,
     "metadata": {},
     "output_type": "execute_result"
    }
   ],
   "source": [
    "np.sort(arr, axis=0) #sort the array with the axis(0) or based on depth-relation"
   ]
  },
  {
   "cell_type": "code",
   "execution_count": 12,
   "metadata": {},
   "outputs": [
    {
     "data": {
      "text/plain": [
       "array([1, 2, 2, 2, 3, 3, 3, 3, 4, 4, 5, 6])"
      ]
     },
     "execution_count": 12,
     "metadata": {},
     "output_type": "execute_result"
    }
   ],
   "source": [
    "np.sort(arr, axis=None) #by set axis=None array will be flatted and then sort"
   ]
  },
  {
   "cell_type": "markdown",
   "metadata": {},
   "source": [
    "##### more:\n",
    "    there are two more sorting module available in numpy; one in argsort and another is lexsort.\n",
    "    argsort simply return the sorted index instead of value of the array, like [4(0),3(1),7(2)] ->\n",
    "    argsort will return [1{3},0{4},2{7}]\n",
    "    >>numpy.argsort(arr, axis=-1, kind='quicksort', order=None)\n",
    "    this is the default api of argsort function in numpy\n",
    "    \n",
    "    lexsort work based on another same length array from where it get the pattern and sort with \n",
    "    that and return the indices instead of value\n",
    "    >>numpy.lexsort((a,b), axis=-1) where a will be sorted based on b's pattern"
   ]
  },
  {
   "cell_type": "code",
   "execution_count": 13,
   "metadata": {},
   "outputs": [
    {
     "data": {
      "text/plain": [
       "array([[[1, 0, 2],\n",
       "        [0, 1, 2]],\n",
       "\n",
       "       [[0, 1, 2],\n",
       "        [0, 2, 1]]], dtype=int64)"
      ]
     },
     "execution_count": 13,
     "metadata": {},
     "output_type": "execute_result"
    }
   ],
   "source": [
    "np.argsort(arr, kind='heapsort') #print out the axis=2 based sorting indices by using heapsort algo"
   ]
  },
  {
   "cell_type": "code",
   "execution_count": 14,
   "metadata": {},
   "outputs": [
    {
     "data": {
      "text/plain": [
       "array([0, 2, 3, 1], dtype=int64)"
      ]
     },
     "execution_count": 14,
     "metadata": {},
     "output_type": "execute_result"
    }
   ],
   "source": [
    "a = np.array([4,2,3,5]) #create a numpy array named 'a'\n",
    "b = np.array([1,6,2,4]) #create another named 'b'\n",
    "np.lexsort((a,b)) #sort a based on b "
   ]
  },
  {
   "cell_type": "markdown",
   "metadata": {},
   "source": [
    "<br>\n",
    "<b>Sum and Average</b>\n",
    "    \n",
    "    >>numpy.sum(arr,axis=None,dtype=None,out=None,keepdim=False)\n",
    "    this is the api form of sum method.\n",
    "    Concentrate on axis, by default this set to None, so the whole array transform to flat array\n",
    "    or 1D form then sum will perform more precisely this way will sum all element at once\n",
    "    If we want to sum elements based on axis or dimension then use axis number. \n",
    "    \n",
    "    >>numpy.average(arr,axis=None,weight=None,returned=False)\n",
    "    formally this api will return the average of the flatted form of the array we passed.\n",
    "    For axis based average we need to put the valid axis. Generally in average formula we \n",
    "    take 50% or 0.5 portion of every element. Like average of (3,4) = 3.5, where (3+4)/2\n",
    "    or 3/2 + 4/2 = 3*0.5 + 4*0; here (0.5 and 0.5) is the weight. So weight refer the \n",
    "    custom properties for make average. For this (3,4) if we take our weight (0.2,0.8)\n",
    "    instead of (0.5,0.5) our answer will be (3*0.2 + 4*0.8) = 0.6 + 3.2 = 3.8\n",
    "    weights sum must be equal to 1 => (0.2+0.8) => (0.5+0.5)"
   ]
  },
  {
   "cell_type": "code",
   "execution_count": 15,
   "metadata": {},
   "outputs": [
    {
     "name": "stdout",
     "output_type": "stream",
     "text": [
      "(2, 2, 3)\n",
      "3\n"
     ]
    }
   ],
   "source": [
    "a = np.array([[[4,3,5],[2,3,4]],[[1,2,3],[2,6,3]]]) #defining our array\n",
    "print(a.shape) #print out the shape of this array\n",
    "print(a.ndim) #print out the dimension of this array"
   ]
  },
  {
   "cell_type": "code",
   "execution_count": 16,
   "metadata": {
    "scrolled": true
   },
   "outputs": [
    {
     "name": "stdout",
     "output_type": "stream",
     "text": [
      "basic form:  38\n",
      "axis=None:  38\n",
      "axis=0: \n",
      " [[5 5 8]\n",
      " [4 9 7]]\n",
      "axis=1: \n",
      " [[6 6 9]\n",
      " [3 8 6]]\n",
      "axis=2: \n",
      " [[12  9]\n",
      " [ 6 11]]\n"
     ]
    }
   ],
   "source": [
    "print('basic form: ', np.sum(a)) #useing basic form of sum api which will sum the flatted array\n",
    "print('axis=None: ', np.sum(a, axis=None)) #using axis=None which refer the basic form \n",
    "print('axis=0: \\n', np.sum(a, axis=0)) #sum the array based on axis=0 or row-relation\n",
    "print('axis=1: \\n', np.sum(a, axis=1)) #sum the array based on axis=1 or column-relation\n",
    "print('axis=2: \\n', np.sum(a, axis=2)) #sum the array based on axis=2 or axis=-1 or deoth-relation"
   ]
  },
  {
   "cell_type": "code",
   "execution_count": 17,
   "metadata": {},
   "outputs": [
    {
     "name": "stdout",
     "output_type": "stream",
     "text": [
      "Flatted Array:  [[1 2 3 4]]\n",
      "Flatted average:  2.5\n",
      "Main array: \n",
      " [[1 2]\n",
      " [3 4]]\n",
      "axis(0) average:  [2. 3.]\n",
      "axis(1) average:  [1.5 3.5]\n",
      "axis(0) with weights:  [1.2 2.2]\n",
      "axis(1) with weights:  [1.7 3.7]\n"
     ]
    }
   ],
   "source": [
    "ar = np.array([[1,2],[3,4]]) #define a numpy array\n",
    "print('Flatted Array: ', np.reshape(ar,(1,4)))\n",
    "print('Flatted average: ', np.average(ar))\n",
    "print('Main array: \\n', ar)\n",
    "print('axis(0) average: ', np.average(ar, axis=0))\n",
    "print('axis(1) average: ', np.average(ar, axis=1))\n",
    "print('axis(0) with weights: ', np.average(ar,axis=0,weights=[0.9,0.1]))\n",
    "print('axis(1) with weights: ', np.average(ar,axis=1,weights=[0.3,0.7]))"
   ]
  },
  {
   "cell_type": "markdown",
   "metadata": {},
   "source": [
    "<br>\n",
    "#### Modification\n",
    "    >>numpy.zeros_like(arr)\n",
    "    this will return an array of zeros instead of passed array's elements\n",
    "    \n",
    "    >>numpy.ones_like(arr)\n",
    "    this will return an array of ones instead of passed array's elements\n",
    "    \n",
    "    >>numpy.append(arr,value,axis=None)\n",
    "    this will append a new value in the defined axis of the array we passed into it.\n",
    "    In general this api will flatted the inputed array then append values whatever you passed.\n",
    "    If we want append a row, or a column or precisely we want to append values into defined axis\n",
    "    then we must input the valid shape array as value in the defined axis otherwise it will get \n",
    "    an error.\n",
    "    \n",
    "    >>numpy.around(arr, decimal=0, out=None)\n",
    "    this api is for fractional number. like we have some elements 3.13131231, 5.32424242\n",
    "    and this api will make elements into defined decimal number like for 2 decimal\n",
    "    3.13, 5.32"
   ]
  },
  {
   "cell_type": "code",
   "execution_count": 18,
   "metadata": {
    "scrolled": false
   },
   "outputs": [
    {
     "name": "stdout",
     "output_type": "stream",
     "text": [
      "zeros:\n",
      " [[0 0]\n",
      " [0 0]]\n",
      "ones:\n",
      " [[1 1]\n",
      " [1 1]]\n"
     ]
    }
   ],
   "source": [
    "arr = np.array([[1,2],[3,4]])\n",
    "print('zeros:\\n',np.zeros_like(arr))\n",
    "print('ones:\\n',np.ones_like(arr))"
   ]
  },
  {
   "cell_type": "code",
   "execution_count": 19,
   "metadata": {},
   "outputs": [
    {
     "name": "stdout",
     "output_type": "stream",
     "text": [
      "main array:\n",
      " [[1 2]\n",
      " [3 4]]\n",
      "axis(0):\n",
      " [[1 2]\n",
      " [3 4]\n",
      " [5 6]\n",
      " [7 8]]\n",
      "axis(1):\n",
      " [[1 2 5 6]\n",
      " [3 4 7 8]]\n",
      "flatted: [ 1  2  3  4 10]\n"
     ]
    }
   ],
   "source": [
    "arr = np.array([[1,2],[3,4]])\n",
    "print('main array:\\n', arr)\n",
    "arr1 = np.append(arr, [[5,6],[7,8]], axis=0)\n",
    "print('axis(0):\\n', arr1)\n",
    "arr2 = np.append(arr, [[5,6],[7,8]], axis=1)\n",
    "print('axis(1):\\n', arr2)\n",
    "print('flatted:',np.append(arr,[10]))"
   ]
  },
  {
   "cell_type": "code",
   "execution_count": 20,
   "metadata": {},
   "outputs": [
    {
     "data": {
      "text/plain": [
       "array([3.677, 1.232])"
      ]
     },
     "execution_count": 20,
     "metadata": {},
     "output_type": "execute_result"
    }
   ],
   "source": [
    "arr = np.array([3.6774,1.23232]) #defining an array of fractional numbers\n",
    "np.around(arr, 3) #print the array with 3 decimal number"
   ]
  },
  {
   "cell_type": "markdown",
   "metadata": {},
   "source": [
    "<br>\n",
    "#### Explore\n",
    "    >>numpy.all(arr,axis=None,out=None,keepdim=False)\n",
    "    this api will check whether a single zero exist in a defined axis\n",
    "    \n",
    "    >>numpy.any(arr,axis=None,out=None,keepdim=None)\n",
    "    this api will check whether a single non-zero element exist or not\n",
    "    \n",
    "    >>numpy.alltrue(arr,axis=None,out=None,keepdim=False)\n",
    "    this api will check whether all elements are true, if all are true then this will return true\n",
    "    otherwise this will return false\n",
    "    \n",
    "    >>numpy.amax(arr,axis=None,out=None,keepdim=False)\n",
    "    Remember the axis relation. As the default axis=None so this api will flat the array first then\n",
    "    find out the maximum element among them. For row-relation(axis=-1) it will just represent an array \n",
    "    from each row's maximum. For other relations like column-relation or depth-relation it will\n",
    "    represent the array from maxmum of each relation; like [[1,2],[4,1]] it will give [4,2] for axis(1)\n",
    "    Just follow the below code for better understand\n",
    "    \n",
    "    >>numpy.amin(arr,axis=None,out=None,keepdim=False)\n",
    "    this will just return the minimum\n",
    "    \n",
    "    >>numpy.argmax(arr,axis=None,out=None,keepdim=False)\n",
    "    this api will return the index or indices of maximum values\n",
    "    \n",
    "    >>numpy.argmin(arr,axis=None,out=None,keepdim=False)\n",
    "    this api will return the index or indices of minimum values"
   ]
  },
  {
   "cell_type": "code",
   "execution_count": 21,
   "metadata": {},
   "outputs": [
    {
     "name": "stdout",
     "output_type": "stream",
     "text": [
      "False\n",
      "True\n",
      "False\n"
     ]
    }
   ],
   "source": [
    "arr = np.array([[0,0],[123,0]])\n",
    "print(np.all(arr))\n",
    "print(np.any(arr))\n",
    "print(np.alltrue(arr))"
   ]
  },
  {
   "cell_type": "code",
   "execution_count": 22,
   "metadata": {},
   "outputs": [
    {
     "name": "stdout",
     "output_type": "stream",
     "text": [
      "3\n"
     ]
    }
   ],
   "source": [
    "x = np.array([[[1,20,3],[4,5,6]],[[9,8,-7],[6,5,4]]]) #define an numpy array\n",
    "print(x.ndim) #print out the dimension of this array"
   ]
  },
  {
   "cell_type": "code",
   "execution_count": 23,
   "metadata": {},
   "outputs": [
    {
     "name": "stdout",
     "output_type": "stream",
     "text": [
      "Max-Value:\n",
      "axis=None\n",
      " 20\n",
      "axis=0\n",
      " [[ 9 20  3]\n",
      " [ 6  5  6]]\n",
      "axis=1\n",
      " [[ 4 20  6]\n",
      " [ 9  8  4]]\n",
      "axis=2\n",
      " [[20  6]\n",
      " [ 9  6]]\n"
     ]
    }
   ],
   "source": [
    "print('Max-Value:')\n",
    "print('axis=None\\n', np.amax(x))\n",
    "print('axis=0\\n', np.amax(x,axis=0))\n",
    "print('axis=1\\n', np.amax(x,axis=1))\n",
    "print('axis=2\\n', np.amax(x,axis=2))"
   ]
  },
  {
   "cell_type": "code",
   "execution_count": 24,
   "metadata": {},
   "outputs": [
    {
     "name": "stdout",
     "output_type": "stream",
     "text": [
      "Min-Value:\n",
      "axis=None\n",
      " -7\n",
      "axis=0\n",
      " [[ 1  8 -7]\n",
      " [ 4  5  4]]\n",
      "axis=1\n",
      " [[ 1  5  3]\n",
      " [ 6  5 -7]]\n",
      "axis=2\n",
      " [[ 1  4]\n",
      " [-7  4]]\n"
     ]
    }
   ],
   "source": [
    "print('Min-Value:')\n",
    "print('axis=None\\n', np.amin(x))\n",
    "print('axis=0\\n', np.amin(x,axis=0))\n",
    "print('axis=1\\n', np.amin(x,axis=1))\n",
    "print('axis=2\\n', np.amin(x,axis=2))"
   ]
  },
  {
   "cell_type": "code",
   "execution_count": 25,
   "metadata": {},
   "outputs": [
    {
     "name": "stdout",
     "output_type": "stream",
     "text": [
      "Max-Index or Indices:\n",
      "axis=None\n",
      " 1\n",
      "axis=0\n",
      " [[1 0 0]\n",
      " [1 0 0]]\n",
      "axis=1\n",
      " [[1 0 1]\n",
      " [0 0 1]]\n",
      "axis=2\n",
      " [[1 2]\n",
      " [0 0]]\n"
     ]
    }
   ],
   "source": [
    "print('Max-Index or Indices:')\n",
    "print('axis=None\\n', np.argmax(x))\n",
    "print('axis=0\\n', np.argmax(x,axis=0))\n",
    "print('axis=1\\n', np.argmax(x,axis=1))\n",
    "print('axis=2\\n', np.argmax(x,axis=2))"
   ]
  },
  {
   "cell_type": "code",
   "execution_count": 26,
   "metadata": {},
   "outputs": [
    {
     "name": "stdout",
     "output_type": "stream",
     "text": [
      "Min-Index or Indices:\n",
      "axis=None\n",
      " 8\n",
      "axis=0\n",
      " [[0 1 1]\n",
      " [0 0 1]]\n",
      "axis=1\n",
      " [[0 1 0]\n",
      " [1 1 0]]\n",
      "axis=2\n",
      " [[0 0]\n",
      " [2 2]]\n"
     ]
    }
   ],
   "source": [
    "print('Min-Index or Indices:')\n",
    "print('axis=None\\n', np.argmin(x))\n",
    "print('axis=0\\n', np.argmin(x,axis=0))\n",
    "print('axis=1\\n', np.argmin(x,axis=1))\n",
    "print('axis=2\\n', np.argmin(x,axis=2))"
   ]
  },
  {
   "cell_type": "markdown",
   "metadata": {},
   "source": [
    "##### More\n",
    "    >>numpy.array_equal(arr1, arr2)\n",
    "    this will return whether 2 array (same shaped and dimensioned) has same element\n",
    "    in each indices or more precisely whether they are same or not\n",
    "    \n",
    "    >>numpy.array_equiv(arr1, arr2)\n",
    "    this api check whether they are same or can we make arr1 by using arr2 or arr2\n",
    "    from arr1. Suppose arr1=[1,2] and arr2=[[1,2],[1,2]]\n",
    "    here we can make arr2 by using arr1 2 times like [arr1,arr1]=[[1,2],[1,2]], so \n",
    "    here we will get True as answer."
   ]
  },
  {
   "cell_type": "code",
   "execution_count": 27,
   "metadata": {},
   "outputs": [],
   "source": [
    "a1 = np.array([[1,2],[3,4]])\n",
    "a2 = np.array([[1,2],[4,3]])\n",
    "a3 = np.array([[[1,2],[3,4]],[[1,2],[3,4]]])"
   ]
  },
  {
   "cell_type": "code",
   "execution_count": 28,
   "metadata": {},
   "outputs": [
    {
     "name": "stdout",
     "output_type": "stream",
     "text": [
      "Checking a1 equal a2:  False\n",
      "Checking a1 equiv a3:  True\n",
      "Checking a3 equiv a3:  True\n"
     ]
    }
   ],
   "source": [
    "print('Checking a1 equal a2: ', np.array_equal(a1,a2))\n",
    "print('Checking a1 equiv a3: ', np.array_equiv(a1,a3))\n",
    "print('Checking a3 equiv a3: ', np.array_equiv(a3,a1))"
   ]
  },
  {
   "cell_type": "markdown",
   "metadata": {},
   "source": [
    "<br>\n",
    "### Number Handling\n",
    "<br>\n",
    "\n",
    "#### Base Transform\n",
    "    >>numpy.base_repr(number, base=2, padding=0)\n",
    "    this api will transform number to custom base number with padding facilities.\n",
    "    For decimal number just use the number, for hexadecimal use '0x' before the number,\n",
    "    like 0xAA and for octal use '0o'; padding means how many zero will be added\n",
    "    before the transformed number\n",
    "    \n",
    "    >>numpy.binary_repr(number, width=None)\n",
    "    this will transform a number only in binary where width refer the length we\n",
    "    want. like decimal(2) = binary(10) for widht 4 this will be 0010"
   ]
  },
  {
   "cell_type": "code",
   "execution_count": 34,
   "metadata": {},
   "outputs": [
    {
     "name": "stdout",
     "output_type": "stream",
     "text": [
      "100\n",
      "11111010\n",
      "110\n"
     ]
    }
   ],
   "source": [
    "print(np.base_repr(4)) #decimal to binary\n",
    "print(np.base_repr(0xFA)) #hexadecimal to binary\n",
    "print(np.base_repr(0o6)) #octal to binary"
   ]
  },
  {
   "cell_type": "code",
   "execution_count": 44,
   "metadata": {},
   "outputs": [
    {
     "name": "stdout",
     "output_type": "stream",
     "text": [
      "11\n",
      "0000011\n",
      "11  and  0000011\n"
     ]
    }
   ],
   "source": [
    "print(np.base_repr(4,base=3)) #transform decimal(4) to 3-base\n",
    "print(np.base_repr(4,base=3,padding=5)) #using padding\n",
    "print(np.base_repr(4,3),' and ',np.base_repr(4,3,5)) #without args name\n"
   ]
  },
  {
   "cell_type": "code",
   "execution_count": 48,
   "metadata": {},
   "outputs": [
    {
     "name": "stdout",
     "output_type": "stream",
     "text": [
      "100\n",
      "000100\n"
     ]
    }
   ],
   "source": [
    "print(np.binary_repr(4)) #decimal(4) to binary\n",
    "print(np.binary_repr(4,6)) #decimal(4) to binary in 6 length"
   ]
  },
  {
   "cell_type": "code",
   "execution_count": null,
   "metadata": {},
   "outputs": [],
   "source": []
  }
 ],
 "metadata": {
  "kernelspec": {
   "display_name": "Python 3",
   "language": "python",
   "name": "python3"
  },
  "language_info": {
   "codemirror_mode": {
    "name": "ipython",
    "version": 3
   },
   "file_extension": ".py",
   "mimetype": "text/x-python",
   "name": "python",
   "nbconvert_exporter": "python",
   "pygments_lexer": "ipython3",
   "version": "3.6.2"
  }
 },
 "nbformat": 4,
 "nbformat_minor": 2
}
