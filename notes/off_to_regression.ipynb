{
 "cells": [
  {
   "cell_type": "markdown",
   "metadata": {},
   "source": [
    "# Off To Reggression\n",
    "\n",
    "This notebook will covered introduction of regression analysis and two most used model(s) linear regressions and logistic regression overview. \n",
    "\n",
    "**References**\n",
    " * [Linear Regression — Detailed Overview](https://towardsdatascience.com/linear-regression-cost-function-gradient-descent-normal-equations-1d2a6c878e2c)\n",
    " * [Machine Learning week 1: Cost Function, Gradient Descent and Univariate Linear Regression](https://medium.com/@lachlanmiller_52885/machine-learning-week-1-cost-function-gradient-descent-and-univariate-linear-regression-8f5fe69815fd)\n",
    "\n",
    "\n",
    "***\n",
    "\n",
    "**Brief on Regression Analysis**\n",
    "\n",
    "Regression analysis is a form of predictive modeling technique which investigate the relationship between a dependent(target) and independent(prediction) variables(s).\n",
    "\n",
    "\n",
    "**Benifits of using Regression Analysis**\n",
    "\n",
    "* It indicates the significant relationship between dependent variables and independent variables.\n",
    "* It indiactes the strength of impact of multiple independent variables on a dependent variable.\n",
    "\n",
    "**Types of Regression**\n",
    "\n",
    "There are various kinds of regression techniques available to make predictions. These techniques are mostly driven by three metrics.\n",
    " > \n",
    "  * number of variables\n",
    "  * types of dependent variables\n",
    "  * shape of regression line\n",
    "  \n",
    "Most commonly used regressions:\n",
    " * Linear Regression\n",
    " * Logistic Regression\n",
    " * Polynomial Regression\n",
    " \n",
    "***\n",
    "\n",
    "**Model Representation**\n",
    "\n",
    "First goal of machine learning or data analysis is to construct a model : a hypothesis that can be used to estimate Y based on X. The hypothesis or model, maps input to output.\n",
    "\n",
    "The hypothesis is usually presented as:\n",
    "$$\n",
    "    h(x) = \\theta_0 + \\theta_1 x  \\label{eq:eq_hypothesis}\n",
    "$$\n",
    "Here,** *h(x)* ** represent the line mathematically.\n",
    "\n",
    "***\n",
    "\n",
    "\n",
    "## Linear Regression\n",
    "\n",
    "In linear regression the hypothesis will be a linear equation and the hypothesis also resembles the line equation * y = mx + c*. \n",
    "\n",
    "Linear regression consists of finding the `best-fitting straight line` through the dataset. Lets take a sample dataset\n",
    "\n",
    "```\n",
    "X = [1, 1, 2, 3, 4, 3, 4, 6, 4]\n",
    "Y = [2, 1, 0.5, 1, 3, 3, 2, 5, 4]\n",
    "```\n",
    "and try to plot them in a scatter graph through python."
   ]
  },
  {
   "cell_type": "code",
   "execution_count": 1,
   "metadata": {},
   "outputs": [],
   "source": [
    "from numpy import array # to manage the array\n",
    "from matplotlib import pyplot # to plot dataset"
   ]
  },
  {
   "cell_type": "code",
   "execution_count": 2,
   "metadata": {
    "scrolled": true
   },
   "outputs": [
    {
     "data": {
      "text/plain": [
       "<matplotlib.collections.PathCollection at 0x189ff5d7da0>"
      ]
     },
     "execution_count": 2,
     "metadata": {},
     "output_type": "execute_result"
    },
    {
     "data": {
      "image/png": "[encoded data removed]",
      "text/plain": [
       "<Figure size 432x288 with 1 Axes>"
      ]
     },
     "metadata": {
      "needs_background": "light"
     },
     "output_type": "display_data"
    }
   ],
   "source": [
    "X = array([1, 1, 2, 3, 4, 3, 4, 6, 4])\n",
    "Y = array([2, 1, 0.5, 1, 3, 3, 2, 5, 4]) \n",
    "pyplot.scatter(X, Y)"
   ]
  },
  {
   "cell_type": "markdown",
   "metadata": {},
   "source": [
    "To find out a regression line through this dataset, a stright line has to constructed with these dataset. A line equation is \n",
    "> y = mx + c\n",
    " * x is independent variable(s)\n",
    " * y is dependent variable(s)\n",
    " * c is intercept value of the line\n",
    " * m is slope of the line\n",
    " \n",
    "\n",
    "Here we the dataset\n",
    "```\n",
    "X = [1, 1, 2, 3, 4, 3, 4, 6, 4]\n",
    "Y = [2, 1, 0.5, 1, 3, 3, 2, 5, 4]\n",
    "```\n",
    "We have to predict value set of `Y'` for each of `X` by using `X` and `Y` values.\n",
    "\n",
    "***\n",
    "\n",
    "$$\n",
    "m = \\frac{\\overline{X}\\overline{Y} - \\overline{XY}}{ \\overline{X}\\overline{X} - \\overline{X^2} }\n",
    "\\\\\n",
    "c = \\overline{Y} - m\\overline{X}\n",
    "$$\n",
    "\n",
    "***\n",
    "\n",
    "To find out these value a python program is given value"
   ]
  },
  {
   "cell_type": "code",
   "execution_count": 3,
   "metadata": {},
   "outputs": [],
   "source": [
    "from statistics import mean"
   ]
  },
  {
   "cell_type": "code",
   "execution_count": 4,
   "metadata": {},
   "outputs": [],
   "source": [
    "def slope(X, Y):\n",
    "    m = (mean(X)*mean(Y) - mean(X*Y)) / (mean(X)*mean(X) - mean(X*X))\n",
    "    return m"
   ]
  },
  {
   "cell_type": "code",
   "execution_count": 5,
   "metadata": {},
   "outputs": [],
   "source": [
    "def intercept(X, Y, m):\n",
    "    c = mean(Y) - (m * mean(X))\n",
    "    return c"
   ]
  },
  {
   "cell_type": "code",
   "execution_count": 6,
   "metadata": {},
   "outputs": [
    {
     "name": "stdout",
     "output_type": "stream",
     "text": [
      "[1.0925925925925926, 1.0925925925925926, 1.7407407407407407, 2.388888888888889, 3.037037037037037, 2.388888888888889, 3.037037037037037, 4.333333333333334, 3.037037037037037]\n"
     ]
    }
   ],
   "source": [
    "m = slope(X, Y)\n",
    "c = intercept(X, Y, m)\n",
    "Y_prime = [m*x + c for x in X]\n",
    "print(Y_prime)"
   ]
  },
  {
   "cell_type": "code",
   "execution_count": 7,
   "metadata": {},
   "outputs": [
    {
     "name": "stdout",
     "output_type": "stream",
     "text": [
      "['2.00', '1.00', '0.50', '1.00', '3.00', '3.00', '2.00', '5.00', '4.00']\n",
      "['1.09', '1.09', '1.74', '2.39', '3.04', '2.39', '3.04', '4.33', '3.04']\n"
     ]
    }
   ],
   "source": [
    "# represent the actual and predicted values\n",
    "float_formatter = \"{:.2f}\".format\n",
    "print([float_formatter(y) for y in Y ])\n",
    "print([float_formatter(y) for y in Y_prime ])"
   ]
  },
  {
   "cell_type": "code",
   "execution_count": 8,
   "metadata": {},
   "outputs": [
    {
     "data": {
      "text/plain": [
       "[<matplotlib.lines.Line2D at 0x189ff65f3c8>]"
      ]
     },
     "execution_count": 8,
     "metadata": {},
     "output_type": "execute_result"
    },
    {
     "data": {
      "image/png": "[encoded data removed]",
      "text/plain": [
       "<Figure size 432x288 with 1 Axes>"
      ]
     },
     "metadata": {
      "needs_background": "light"
     },
     "output_type": "display_data"
    }
   ],
   "source": [
    "# ploting the regression line on scatter graph\n",
    "pyplot.scatter(X, Y)\n",
    "pyplot.plot(X, Y_prime)"
   ]
  },
  {
   "cell_type": "markdown",
   "metadata": {},
   "source": [
    "This code-session showed how to find out a linear regression from a dataset and ploting them with python. But is there only one regression line can be generated or there any other optional line(s) can be generated, we didn't discussed. Actually we find out one of the better fitted regression line with those above equation. Any other possibilies are also available. But why this line is fitted for this dataset and how it's calculated we will discuess letter in another note. Now, we see how to find out the best fitted regression line using `sklearn` library "
   ]
  },
  {
   "cell_type": "code",
   "execution_count": 9,
   "metadata": {},
   "outputs": [],
   "source": [
    "from sklearn.linear_model import LinearRegression"
   ]
  },
  {
   "cell_type": "code",
   "execution_count": 10,
   "metadata": {},
   "outputs": [
    {
     "data": {
      "text/plain": [
       "array([0.86170213, 0.86170213, 1.58510638, 2.30851064, 3.03191489,\n",
       "       2.30851064, 3.03191489, 4.4787234 , 3.03191489])"
      ]
     },
     "execution_count": 10,
     "metadata": {},
     "output_type": "execute_result"
    }
   ],
   "source": [
    "# reformet the X dataset into 2D as sklearn library requirements\n",
    "X = [[1], [1], [2], [3], [4], [3], [4], [6], [4]]\n",
    "Y = [2, 1, 0.5, 1, 3, 3, 2, 5, 4]\n",
    "regression = LinearRegression()\n",
    "regression.fit(X, Y)\n",
    "Y_prime_2 = regression.predict(X)\n",
    "Y_prime_2"
   ]
  },
  {
   "cell_type": "code",
   "execution_count": 11,
   "metadata": {},
   "outputs": [
    {
     "name": "stdout",
     "output_type": "stream",
     "text": [
      "['2.00', '1.00', '0.50', '1.00', '3.00', '3.00', '2.00', '5.00', '4.00']\n",
      "['0.86', '0.86', '1.59', '2.31', '3.03', '2.31', '3.03', '4.48', '3.03']\n"
     ]
    }
   ],
   "source": [
    "# represent the actual and predicted values\n",
    "float_formatter = \"{:.2f}\".format\n",
    "print([float_formatter(y) for y in Y ])\n",
    "print([float_formatter(y) for y in Y_prime_2 ])"
   ]
  },
  {
   "cell_type": "code",
   "execution_count": 12,
   "metadata": {},
   "outputs": [
    {
     "data": {
      "text/plain": [
       "[<matplotlib.lines.Line2D at 0x189825ece80>]"
      ]
     },
     "execution_count": 12,
     "metadata": {},
     "output_type": "execute_result"
    },
    {
     "data": {
      "image/png": "[encoded data removed]",
      "text/plain": [
       "<Figure size 432x288 with 1 Axes>"
      ]
     },
     "metadata": {
      "needs_background": "light"
     },
     "output_type": "display_data"
    }
   ],
   "source": [
    "pyplot.scatter(X,Y)\n",
    "pyplot.plot(X,Y_prime_2)"
   ]
  },
  {
   "cell_type": "markdown",
   "metadata": {},
   "source": [
    "Now let compare the `sklearn` generated regression line and manually find out regression line on the scatter graph. `Y_prime` values are generated by ourselfs and `Y_prime_2` values are generated by `sklearn` model. `Green` line will be out predicted regression line and `Red` one is by `sklearn` library."
   ]
  },
  {
   "cell_type": "code",
   "execution_count": 13,
   "metadata": {},
   "outputs": [
    {
     "data": {
      "text/plain": [
       "[<matplotlib.lines.Line2D at 0x18982680dd8>]"
      ]
     },
     "execution_count": 13,
     "metadata": {},
     "output_type": "execute_result"
    },
    {
     "data": {
      "image/png": "[encoded data removed]",
      "text/plain": [
       "<Figure size 432x288 with 1 Axes>"
      ]
     },
     "metadata": {
      "needs_background": "light"
     },
     "output_type": "display_data"
    }
   ],
   "source": [
    "pyplot.scatter(X, Y)\n",
    "pyplot.plot(X, Y_prime, color='green')\n",
    "pyplot.plot(X, Y_prime_2, color='red')"
   ]
  },
  {
   "cell_type": "markdown",
   "metadata": {},
   "source": [
    "***\n",
    "\n",
    "## Logistic Regression\n",
    "\n",
    "**References**\n",
    " * [Logistic Regression - GreyAtom](https://medium.com/greyatom/logistic-regression-89e496433063)\n",
    "\n",
    "Every machine learning or data science algorithm works best under a given set of condition. Logistic Regression is a machine learning classification algorithm that is used to predict the probability of a categorical dependent variable that contains `1/0` or `True/False` or this kind of categories.\n",
    "\n",
    "Linear Regression is `unbound` and this brings Logistic Regression into picture. Their value strictly ranges from 0 to 1. Logistics regression is generally used in Binary dependent variable.\n",
    "\n",
    "\n",
    "**Types of Logistic Regression**\n",
    " * Binary Logistic Regression\n",
    " \n",
    "   The categorical response has only two possible outcomes. E.g. : True or False\n",
    "   \n",
    "   \n",
    " * Multinomial Logistic Regression\n",
    " \n",
    "   Three or more categories without ordering. E.g.: Rainy/Sunny/Mild\n",
    "   \n",
    "   \n",
    " * Ordinal Logistic Regression\n",
    " \n",
    "   Three or more categories with ordering. Good/Normal/Bad\n",
    " \n",
    "\n",
    "\n",
    "\n",
    "| Linear                      | Logistic                                       |\n",
    "| --------------------------- | ---------------------------------------------- |\n",
    "| Target is interval variable | Target is discrete(binary or ordinal) variable |\n",
    "| Predictive values are the mean of the inputed variables| Predicted values are the probability of the inputed target variables |\n",
    "\n",
    "\n",
    "***\n",
    "\n",
    "**When Linear Regression Doesn't works?**\n",
    "\n",
    "Lets take a categorical sample dataset \n",
    "```\n",
    "    X = [0,1,2,3,4,5,5,6,6,7,8,9]\n",
    "    Y = [0,0,0,0,0,0,1,1,1,1,1,1]\n",
    "```\n",
    "and try to find out a regression line over this dataset scatter using sklearn library"
   ]
  },
  {
   "cell_type": "code",
   "execution_count": 14,
   "metadata": {},
   "outputs": [
    {
     "data": {
      "text/plain": [
       "<matplotlib.collections.PathCollection at 0x189826d8710>"
      ]
     },
     "execution_count": 14,
     "metadata": {},
     "output_type": "execute_result"
    },
    {
     "data": {
      "image/png": "[encoded data removed]",
      "text/plain": [
       "<Figure size 432x288 with 1 Axes>"
      ]
     },
     "metadata": {
      "needs_background": "light"
     },
     "output_type": "display_data"
    }
   ],
   "source": [
    "X = array([0,1,2,3,4,5,5,6,6,7,8,9])\n",
    "Y = array([0,0,0,0,0,0,1,1,1,1,1,1])\n",
    "X = X.reshape(len(X), -1) # reshape from [x1, x2] to [[x1], [x2]]\n",
    "pyplot.scatter(X,Y)"
   ]
  },
  {
   "cell_type": "code",
   "execution_count": 46,
   "metadata": {},
   "outputs": [
    {
     "data": {
      "text/plain": [
       "[<matplotlib.lines.Line2D at 0x18983c84358>]"
      ]
     },
     "execution_count": 46,
     "metadata": {},
     "output_type": "execute_result"
    },
    {
     "data": {
      "image/png": "[encoded data removed]",
      "text/plain": [
       "<Figure size 432x288 with 1 Axes>"
      ]
     },
     "metadata": {
      "needs_background": "light"
     },
     "output_type": "display_data"
    }
   ],
   "source": [
    "regression = LinearRegression()\n",
    "regression.fit(X, Y)\n",
    "Y_prime = regression.predict(X)\n",
    "pyplot.scatter(X, Y)\n",
    "pyplot.plot(X, Y_prime)"
   ]
  },
  {
   "cell_type": "markdown",
   "metadata": {},
   "source": [
    "As we see, linear regression is not suitable for this categorical classification dataset. As because linear regression isn't desined to predict the probability of an event occuring. Linear Regression is useful in continuous dependent variable; but here the depedent variable is not continuous. For this logistic regression come to play to solve this problem."
   ]
  },
  {
   "cell_type": "code",
   "execution_count": 16,
   "metadata": {},
   "outputs": [],
   "source": [
    "from sklearn.linear_model import LogisticRegression\n",
    "from scipy.special import expit"
   ]
  },
  {
   "cell_type": "code",
   "execution_count": 48,
   "metadata": {},
   "outputs": [
    {
     "data": {
      "text/plain": [
       "[<matplotlib.lines.Line2D at 0x18983e7a240>]"
      ]
     },
     "execution_count": 48,
     "metadata": {},
     "output_type": "execute_result"
    },
    {
     "data": {
      "image/png": "[encoded data removed]",
      "text/plain": [
       "<Figure size 432x288 with 1 Axes>"
      ]
     },
     "metadata": {
      "needs_background": "light"
     },
     "output_type": "display_data"
    }
   ],
   "source": [
    "logit = LogisticRegression()\n",
    "logit.fit(X, Y)\n",
    "proba = logit.predict_proba(X)\n",
    "pyplot.scatter(X, Y)\n",
    "pyplot.plot(X, proba[:,1])"
   ]
  },
  {
   "cell_type": "markdown",
   "metadata": {},
   "source": [
    "This is a sample dataset, so the line curve couldn't shaped well. But the overall concept is seem clear, that the logit function separate the samples into to class, one side of the curve is only 0 another side contains only 1(s).\n",
    "\n",
    "**Logistic Regression Equation**\n",
    "\n",
    "The underlying algorithm of Maximum Likelihood Estimation (MLE) determines the regression coefficient for the model that accurately predicts the probability of the binary dependent variable. Since the probability of any event lies between 0 and 1 or 0% to 100%, when we plot the probability of the dependent variable by independent factors, it will demonstrate an `S` shape curve.\n",
    "\n",
    "Logit Transformation is defined as follows:\n",
    "\n",
    "$$\n",
    "    Logit = \\log{\\frac{p}{1-p}}\n",
    "    \\\\[0.3in]\n",
    "    Logit = \\log{\\frac{probability\\:of\\:event\\:happening}{probability\\:of\\:event\\:not\\:happening}}\n",
    "    \\\\[0.3in]\n",
    "    Logit = \\log{Odds}\n",
    "$$\n",
    "\n",
    "Logistic Regression is part of a larger class algorithm known as `Generalized Linear Model (GLM)`. The fundamental equation of GSM is\n",
    "\n",
    "$$\n",
    "    g(E(y)) = \\alpha + \\beta x1 + \\gamma x2\n",
    "$$\n",
    "\n",
    "\n",
    "Here:\n",
    " * `g()` is the link function\n",
    " * `E(y)` is the expectation of target variable\n",
    " * rest is the linear predictor where `alpha`, `beta`, `gamma` to be predicted\n",
    " \n",
    "\n",
    "From the linear regression hypothesis we can write\n",
    "\n",
    "$$\n",
    "    h(y) = \\theta_0 + \\theta_1(x)\n",
    "    \\\\\n",
    "    or\n",
    "    \\\\\n",
    "    g(y) = \\beta_0 + \\beta(x)\n",
    "$$\n",
    "\n",
    "Assume we are trying to predict a binary classification problem which outcome can be `True` or `False`. In logistic regression the above `g()` is link function and. So this function is establishing using two things `probability of success (p)` and `probability of failure (1-p)`. \n",
    "\n",
    "P should meet following criteria:\n",
    " * It must always to positive (since p<=1)\n",
    " * It must alway to less or equal to 1 (since p>=1)\n",
    "\n",
    "To establishing the link function we denote `g()` with `p` initially. That means we are trying to find out the probability of success. We have to find out the value of `beta 0` and `beta` using `x`.\n",
    "\n",
    "So,\n",
    "\n",
    "$$\n",
    "    p = g(y) = \\beta_0 + \\beta(x)\n",
    "$$\n",
    "\n",
    "Since the probability must always be positive we'll put the linear equation in exponentail form, so that negative values doesn't effect on the probability. Remember this is just a hypothesis, we are not calculating, we are deriving from linear regression hypothesis to logistic regression equation. \n",
    "\n",
    "$$\n",
    "    p = \\exp(\\beta_0 + \\beta(x)) = e^{(\\beta_0 + \\beta(x))}\n",
    "$$\n",
    "\n",
    "To make probability less than 1, devide `p` by a number greater that `p`. Simply devide by `p+1` or\n",
    "\n",
    "$$\n",
    "    p = \\frac{\\exp(\\beta_0 + \\beta(x))}{\\exp(\\beta_0 + \\beta(x))+1} = \\frac{e^{(\\beta_0 + \\beta(x))}}{e^{(\\beta_0 + \\beta(x))}+1}\n",
    "$$\n",
    "\n",
    "From this above three equation we can redefine the probability as:\n",
    "\n",
    "$$\n",
    "    p = \\frac{e^y}{e^y+1}\n",
    "$$\n",
    "here `p` is the probability of success and eqation is the `logit` function. Ultimately we get\n",
    "\n",
    "$$\n",
    "    p = \\frac{1}{1+e^{-y}}\n",
    "    \\\\[0.3in]\n",
    "    y = \\log(\\frac{p}{1-p})\n",
    "    \\\\[0.3in]\n",
    "    odds = \\frac{p}{1-p}\n",
    "$$\n",
    "\n",
    "This `p` equation is a `sigmoid` function."
   ]
  },
  {
   "cell_type": "code",
   "execution_count": null,
   "metadata": {},
   "outputs": [],
   "source": []
  }
 ],
 "metadata": {
  "kernelspec": {
   "display_name": "Python 3",
   "language": "python",
   "name": "python3"
  },
  "language_info": {
   "codemirror_mode": {
    "name": "ipython",
    "version": 3
   },
   "file_extension": ".py",
   "mimetype": "text/x-python",
   "name": "python",
   "nbconvert_exporter": "python",
   "pygments_lexer": "ipython3",
   "version": "3.6.2"
  }
 },
 "nbformat": 4,
 "nbformat_minor": 2
}
