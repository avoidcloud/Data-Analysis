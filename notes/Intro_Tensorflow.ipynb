{
 "cells": [
  {
   "cell_type": "markdown",
   "metadata": {},
   "source": [
    "<h1 align=center><font size=\"34\" color=#ff4500>Introduction of Tensorflow</h1>\n",
    "<h2 align=center><font color=#8b0000>Stanford Uninversity</h2>"
   ]
  },
  {
   "cell_type": "code",
   "execution_count": 1,
   "metadata": {},
   "outputs": [],
   "source": [
    "import tensorflow as tf"
   ]
  },
  {
   "cell_type": "markdown",
   "metadata": {},
   "source": [
    "#### constant\n",
    "    tensorflow.constant(value, dtype=None, shape=(), name='const', varify_shape=False)\n",
    "    constant allow us to define a node in graph. It takes minimum one argument which is value.\n",
    "    dtype will generate after set the value and name will set 'const', 'const_1',...'const_n' respectively\n",
    "    where n is natural number. shape will allow us to define n-dimentional array. \n",
    "    varify_shape will allow the program check the valid shape as value inputed before execute the graph.\n",
    "    Suppose we define the value this [[1,2],[3,4]] which is a (2 X 2) matrix, and set the shape (4,3),\n",
    "    if varify_shape=False then tensorflow will create a (4 X 3) shape using the last element of our value.\n",
    "    just like = [[1,2,3],[4,4,4],[4,4,4],[4,4,4]] and when we set varify_shape=True then we will get an error\n",
    "    because tensorflow won't find out the actual shaped value\n",
    "    \n",
    "#### Simple arithmetic \n",
    "    Tensorflow will allow arithmetic operation only for graph node. Such:\n",
    "    >>x1 = tensorflow.constant(4) -> a node with the value of 4\n",
    "    >>x2 = tensorflow.constant(5) -> a node with the value of 5\n",
    "    then do the arithmetic operation using a+b, a*b, a/b, a-b, a**b, a%b whatever python support.\n",
    "    If we don't set any node in graph before operation then another way to do this is:\n",
    "    >>tensorflow.add(4,5) == 4+5\n",
    "    >>tensorflow.subtract(4,5) == 4-5\n",
    "    >>tensorflow.multiply(4,5) == 4*5\n",
    "    >>tensorflow.divide(4,5) == 4/5\n",
    "    >>tensorflow.pow(4,5) == 4**5\n",
    "    >>tensorflow.mode(4,5) == 4%5\n",
    "    \n",
    "#### tensorflow data types\n",
    "    Integers: tf.int8, tf.int16, tf.int32, tf.int64\n",
    "    Fraction: tf.float16, tf.float32, tf.float64\n",
    "    Complex: tf.complex64, tf.complex128\n",
    "    Others: tf.bool, tf.string\n",
    "    check out tensorflow doc for more varible that are available in tensorflow\n",
    "    \n",
    "#### Session\n",
    "    To execute a tensorflow graph we must need a session to run the graph. To define a session write\n",
    "    tensorflow.Session() and to run it tensorflow.Session().run(args)\n",
    "    Generally we define a session just like this: \n",
    "    \n",
    "    >>session = tensorflow.Session() and then session.run(args) or\n",
    "    \n",
    "    >>with tensorflow.Session() as session:\n",
    "      ... session.run(args)\n",
    "    \n",
    "    After executed our graph we must close the session otherwise it will conflict with other session.\n",
    "    To close a session just write >>session.close()\n",
    "    \n",
    "    Another kind of session available in tensorflow which is for instant execution.\n",
    "    >>tensorflow.InteractiveSession()\n",
    "    this will allow us to execute a graph or subgraph or a node instantly\n",
    "    More about session will discuss letter"
   ]
  },
  {
   "cell_type": "code",
   "execution_count": 2,
   "metadata": {},
   "outputs": [
    {
     "name": "stdout",
     "output_type": "stream",
     "text": [
      "34\n"
     ]
    }
   ],
   "source": [
    "x1 = tf.constant(16) #create a node in graph with the value of 16\n",
    "x2 = tf.constant(18) #create a node in graph with the value of 18\n",
    "\n",
    "with tf.Session() as ses: #create a session in with clause\n",
    "    print(ses.run(x1+x2)) #run and print the addtion value of x1 and x2\n",
    "    ses.close() #close this session"
   ]
  },
  {
   "cell_type": "code",
   "execution_count": 3,
   "metadata": {},
   "outputs": [
    {
     "name": "stdout",
     "output_type": "stream",
     "text": [
      "1048576\n"
     ]
    }
   ],
   "source": [
    "w1 = 7 #define a value \n",
    "w2 = 3 #define a value\n",
    "\n",
    "x1 = tf.subtract(w1, w2, name='in1') #define a node in graph name 'in1' with the subtraction value of w1 and w2 \n",
    "x2 = tf.add(w1, w2, name='in2') #define a node in graph name 'in2' with the additional value of w1 and w2\n",
    "\n",
    "y = tf.pow(x1, x2, name='out') #define a node in graph name 'out' with the value of x1^x2\n",
    "\n",
    "with tf.Session() as ses: #create a session name as ses\n",
    "    '''\n",
    "    when we execute node y, tensorflow will find out the value of x1 and x2 first, so tensorflow will execute\n",
    "    x1 = w1 - w2 and x2 = w1 + w2 and the come to y and execute it and then store the execution value in y \n",
    "    '''\n",
    "    y = ses.run(y) #execute node y \n",
    "    print(y) #print the value of y\n",
    "    ses.close() #close the session"
   ]
  },
  {
   "cell_type": "code",
   "execution_count": 4,
   "metadata": {},
   "outputs": [
    {
     "name": "stdout",
     "output_type": "stream",
     "text": [
      "[76, -52]\n"
     ]
    }
   ],
   "source": [
    "x1 = tf.multiply(4,3) #here, x1 = 4*3 = 12\n",
    "x2 = tf.pow(4,3) #here, x2 = 4^3 = 64\n",
    "\n",
    "y1 = tf.add(x1,x2) #here, y1 = 12+64 = 76\n",
    "y2 = tf.subtract(x1,x2) #here, y2 = 64-12 = 52\n",
    "\n",
    "with tf.Session() as ses:\n",
    "    print(ses.run([y1,y2])) #run session with node array\n",
    "    ses.close()"
   ]
  },
  {
   "cell_type": "markdown",
   "metadata": {},
   "source": [
    "<br>\n",
    "#### Graph\n",
    "    As tensorflow work with data flow graph, so there is a default graph provide by tensorflow\n",
    "    It is better to work with in a single graph, and use many sub-graph for one single graph\n",
    "    But when-ever you need a graph just write the module tensorflow.Graph() and will return a graph\n",
    "    >>g = tensorflow.Graph()\n",
    "    \n",
    "    When you we use 2 or more graph in a single program then we must handle each graph\n",
    "    when we need to add a node in a custom graph or use a custom graph we first define it as default, like\n",
    "    >>g.as_default()\n",
    "    then this custom graph will be our workplace.\n",
    "    \n",
    "    to get default graph use\n",
    "    >>g = tf.get_default_graph()\n",
    "    \n",
    "    More about tensorflow graph will discuss letter"
   ]
  },
  {
   "cell_type": "code",
   "execution_count": 5,
   "metadata": {},
   "outputs": [
    {
     "name": "stdout",
     "output_type": "stream",
     "text": [
      "7\n"
     ]
    }
   ],
   "source": [
    "g = tf.Graph() #create a new graph\n",
    "with g.as_default(): #set it as default then define node x with addtion of 3 and 4\n",
    "    x = tf.add(3,4) #without make this graph as default our node will create in tensorflow default graph\n",
    "    \n",
    "with tf.Session(graph = g) as ses: #create a session for our defined graph by passing as arg\n",
    "    print(ses.run(x)) #run this session\n",
    "    ses.close() #close the session"
   ]
  },
  {
   "cell_type": "code",
   "execution_count": 6,
   "metadata": {},
   "outputs": [
    {
     "name": "stdout",
     "output_type": "stream",
     "text": [
      "<tensorflow.python.framework.ops.Graph object at 0x000001C1AD056908>\n",
      "<tensorflow.python.framework.ops.Graph object at 0x000001C1AD09DF28>\n"
     ]
    }
   ],
   "source": [
    "print(tf.get_default_graph()) #by default graph provide by tensorflow\n",
    "g = tf.Graph() #create a new graph\n",
    "with g.as_default(): #make it as default in with block\n",
    "    print(tf.get_default_graph()) #check out default graph"
   ]
  },
  {
   "cell_type": "code",
   "execution_count": 7,
   "metadata": {
    "scrolled": true
   },
   "outputs": [
    {
     "name": "stdout",
     "output_type": "stream",
     "text": [
      "3\n",
      "4\n"
     ]
    }
   ],
   "source": [
    "g = tf.Graph() #create a new graph\n",
    "a = tf.constant(3) #define node a with value of 3 in by default graph\n",
    "with g.as_default(): #call our custom graph as default\n",
    "    b = tf.constant(4) #define node b there with value of 4\n",
    "with tf.Session() as ses: #create a session for by default graph\n",
    "    print(ses.run(a)) #print out its node a\n",
    "with tf.Session(graph = g) as ses: #create a session for our custom graph by passing arg\n",
    "    print(ses.run(b)) #print out its node b"
   ]
  },
  {
   "cell_type": "markdown",
   "metadata": {},
   "source": [
    "<br>\n",
    "#### Tensorflow Graph Visualization\n",
    "    >>a = tf.constant(2)\n",
    "    >>b = tf.constant(3)\n",
    "\n",
    "    >>m = tf.add(a,b)\n",
    "    >>with tf.Session() as ses:\n",
    "      ...writer = tf.summary.FileWriter('./graphs',ses.graph)\n",
    "      ...print(ses.run(m))\n",
    "      ...writer.close()\n",
    "      ...ses.close()\n",
    "        \n",
    "    #terminal : tensorboard --logdir=\"./graphs\" --port = XXXX\n",
    "    #browser : localhost:XXXX"
   ]
  },
  {
   "cell_type": "markdown",
   "metadata": {},
   "source": [
    "<br><p><b><font color='Green'>Creating tensorflow Interactive Session for instant execution</b></p>"
   ]
  },
  {
   "cell_type": "code",
   "execution_count": 8,
   "metadata": {},
   "outputs": [
    {
     "data": {
      "text/plain": [
       "<tensorflow.python.client.session.InteractiveSession at 0x1c1ad0bd710>"
      ]
     },
     "execution_count": 8,
     "metadata": {},
     "output_type": "execute_result"
    }
   ],
   "source": [
    "tf.InteractiveSession()"
   ]
  },
  {
   "cell_type": "markdown",
   "metadata": {},
   "source": [
    ">### <font color=\"darkblue\">Instant and random tensor create<br>"
   ]
  },
  {
   "cell_type": "code",
   "execution_count": 9,
   "metadata": {},
   "outputs": [
    {
     "data": {
      "text/plain": [
       "array([[0., 0., 0.],\n",
       "       [0., 0., 0.]], dtype=float32)"
      ]
     },
     "execution_count": 9,
     "metadata": {},
     "output_type": "execute_result"
    }
   ],
   "source": [
    "x = tf.zeros((2,3), dtype=tf.float32,name='zeros') #creating a matrix of 2X3 shaped with zeros\n",
    "x.eval() #instant execute"
   ]
  },
  {
   "cell_type": "markdown",
   "metadata": {},
   "source": [
    "    >>tensorflow.zeros(shape=None, dtype=None, name=None)\n",
    "    this api provide to create a defined shape matrix where all elements are zero;\n",
    "    let we need [[0,0,0],[0,0,0]] which is a matrix of 2X3 where all elements are zero."
   ]
  },
  {
   "cell_type": "code",
   "execution_count": 10,
   "metadata": {
    "scrolled": true
   },
   "outputs": [
    {
     "data": {
      "text/plain": [
       "array([[1, 1],\n",
       "       [1, 1],\n",
       "       [1, 1],\n",
       "       [1, 1]], dtype=int8)"
      ]
     },
     "execution_count": 10,
     "metadata": {},
     "output_type": "execute_result"
    }
   ],
   "source": [
    "x = tf.ones((4,2), dtype=tf.int8, name='ones') #creating a matrix of 4X2 shaped with ones\n",
    "x.eval() #instant execute"
   ]
  },
  {
   "cell_type": "markdown",
   "metadata": {},
   "source": [
    "    >>tensorflow.ones(shape=None, dtype=None, name=None)\n",
    "    this api provide to create a defined shape matrix where all elements are one;\n",
    "    let we need [[1,1],[1,1],[1,1],[1,1]] which is a matrix of 4X2 where all elements are one."
   ]
  },
  {
   "cell_type": "code",
   "execution_count": 11,
   "metadata": {},
   "outputs": [
    {
     "data": {
      "text/plain": [
       "array([[13, 13, 13],\n",
       "       [13, 13, 13],\n",
       "       [13, 13, 13]])"
      ]
     },
     "execution_count": 11,
     "metadata": {},
     "output_type": "execute_result"
    }
   ],
   "source": [
    "x = tf.fill((3,3), 13)\n",
    "x.eval()"
   ]
  },
  {
   "cell_type": "markdown",
   "metadata": {},
   "source": [
    "    >>tensorflow.fill(shape=None, value, name=None)\n",
    "    this api provide to create a defined shape matrix with the defied value\n",
    "    let we need a matrix of 3X3 where all elements are 13, this is our code to write"
   ]
  },
  {
   "cell_type": "code",
   "execution_count": 12,
   "metadata": {},
   "outputs": [
    {
     "data": {
      "text/plain": [
       "array([3. , 5.5, 8. ], dtype=float32)"
      ]
     },
     "execution_count": 12,
     "metadata": {},
     "output_type": "execute_result"
    }
   ],
   "source": [
    "x = tf.linspace(3.0, 8.0, 3) #here start element= 3.0 , stop element= 5.0 and array length = 3\n",
    "x.eval() #instant execuet"
   ]
  },
  {
   "cell_type": "markdown",
   "metadata": {},
   "source": [
    "    >>tensorflow.linspace(start=None, stop=None, num=None, name=None)\n",
    "    this api provide to create a one dimensional array of num lenght which start and stop with defined value.\n",
    "    Here we use start=3.0 instead of 3 and stop=8.0 instead of 8, as because our array length will be 3, and\n",
    "    for this our data type in this range should be in float type. As this api does not take data type so we have\n",
    "    to use this kind of technique"
   ]
  },
  {
   "cell_type": "code",
   "execution_count": 13,
   "metadata": {},
   "outputs": [
    {
     "data": {
      "text/plain": [
       "array([[0, 0],\n",
       "       [0, 0]])"
      ]
     },
     "execution_count": 13,
     "metadata": {},
     "output_type": "execute_result"
    }
   ],
   "source": [
    "node = [[3,6],[9,12]] #predefined matrix\n",
    "x = tf.zeros_like(node, tf.int32, name='zeros') #creating a matrix of node shaped with zeros\n",
    "x.eval() #instant execute"
   ]
  },
  {
   "cell_type": "markdown",
   "metadata": {},
   "source": [
    "    >>tensorflow.zeros_like(tensor_node=None, dtype=None, name=None)\n",
    "    this api provide to create a matrix of passed node shaped with zeros,\n",
    "    let we have a matrix of (N X M) shaped and we need another matrix of this shaped\n",
    "    with all zeros, then this api will be use for this purpose"
   ]
  },
  {
   "cell_type": "code",
   "execution_count": 14,
   "metadata": {},
   "outputs": [
    {
     "data": {
      "text/plain": [
       "array([[1, 1],\n",
       "       [1, 1]])"
      ]
     },
     "execution_count": 14,
     "metadata": {},
     "output_type": "execute_result"
    }
   ],
   "source": [
    "node = [[3,6],[9,12]] #predefined matrix\n",
    "x = tf.ones_like(node, tf.int32, name='zeros') #creating a matrix of node shaped with ones\n",
    "x.eval() #instant execute"
   ]
  },
  {
   "cell_type": "markdown",
   "metadata": {},
   "source": [
    "    >>tensorflow.ones_like(tensor_node=None, dtype=None, name=None)\n",
    "    this api provide to create a matrix of passed node shaped with ones,\n",
    "    let we have a matrix of (N X M) shaped and we need another matrix of this shaped\n",
    "    with all ones, then this api will be use for this purpose"
   ]
  },
  {
   "cell_type": "code",
   "execution_count": 15,
   "metadata": {},
   "outputs": [
    {
     "data": {
      "text/plain": [
       "array([ 1,  3,  5,  7,  9, 11, 13, 15, 17])"
      ]
     },
     "execution_count": 15,
     "metadata": {},
     "output_type": "execute_result"
    }
   ],
   "source": [
    "a = tf.range(start=1, limit=18, delta=2, dtype=tf.int32, name='range') #creating a 1D array will defined range\n",
    "a.eval() #instant execute"
   ]
  },
  {
   "cell_type": "markdown",
   "metadata": {},
   "source": [
    "    >>tensorflow.range(start=None, limit=None, delta=None, dtype=None, name=None)\n",
    "    this api provide to create a one dimensional array in defined range where (element_i - element_i-1 = delta),\n",
    "    let we need a one-dimension array which is start with 1 and should be in 18 where difference between (i+1)th\n",
    "    and (i)th will equal to delta"
   ]
  },
  {
   "cell_type": "code",
   "execution_count": 16,
   "metadata": {},
   "outputs": [
    {
     "data": {
      "text/plain": [
       "array([4.59045   , 0.03688478], dtype=float32)"
      ]
     },
     "execution_count": 16,
     "metadata": {},
     "output_type": "execute_result"
    }
   ],
   "source": [
    "a = tf.random_normal(shape=(2,),mean=3.0,stddev=1.5,dtype=tf.float32,seed=None,name=None)\n",
    "a.eval()"
   ]
  },
  {
   "cell_type": "markdown",
   "metadata": {},
   "source": [
    "    >>tensorflow.random_normal(shape=None, mean=None, stddev=None, dtype=None, seed=None, name=None)\n",
    "    this api will provide to create a defined shaped array where approximate mean and standard deviation \n",
    "    values are predefined. "
   ]
  },
  {
   "cell_type": "code",
   "execution_count": 17,
   "metadata": {
    "scrolled": true
   },
   "outputs": [
    {
     "data": {
      "text/plain": [
       "array([[-0.91845614,  0.00353716]], dtype=float32)"
      ]
     },
     "execution_count": 17,
     "metadata": {},
     "output_type": "execute_result"
    }
   ],
   "source": [
    "a = tf.truncated_normal(shape=(1,2),mean=0.2,stddev=1.4,dtype=tf.float32,seed=None,name=None)\n",
    "a.eval()"
   ]
  },
  {
   "cell_type": "markdown",
   "metadata": {},
   "source": [
    "    Description will be added"
   ]
  },
  {
   "cell_type": "code",
   "execution_count": 18,
   "metadata": {},
   "outputs": [
    {
     "data": {
      "text/plain": [
       "array([[0.27349746],\n",
       "       [0.40021193]], dtype=float32)"
      ]
     },
     "execution_count": 18,
     "metadata": {},
     "output_type": "execute_result"
    }
   ],
   "source": [
    "a = tf.random_uniform(shape=(2,1),minval=0,maxval=None,dtype=tf.float32,seed=None,name=None)\n",
    "a.eval()"
   ]
  },
  {
   "cell_type": "markdown",
   "metadata": {},
   "source": [
    "    Description will be added"
   ]
  },
  {
   "cell_type": "code",
   "execution_count": 19,
   "metadata": {},
   "outputs": [
    {
     "data": {
      "text/plain": [
       "array([[1, 2, 9],\n",
       "       [3, 4, 8],\n",
       "       [5, 6, 7]])"
      ]
     },
     "execution_count": 19,
     "metadata": {},
     "output_type": "execute_result"
    }
   ],
   "source": [
    "a = tf.random_shuffle([[1,2,9],[3,4,8],[5,6,7]])\n",
    "a.eval()"
   ]
  },
  {
   "cell_type": "markdown",
   "metadata": {},
   "source": [
    "    >>tensorflow.random_shuffle(value, seed=None, name=None)\n",
    "    this api allow us to shuffle a n-dimensional array randomly\n",
    "    shuffle will operate in rows only not the columns"
   ]
  },
  {
   "cell_type": "raw",
   "metadata": {},
   "source": [
    "a = tf.random_crop([2,3,6,11,34,7],size=0,seed=None,name=None)\n",
    "a.eval()"
   ]
  },
  {
   "cell_type": "code",
   "execution_count": 20,
   "metadata": {},
   "outputs": [
    {
     "data": {
      "text/plain": [
       "array([[2, 1, 2, 1, 1],\n",
       "       [0, 0, 1, 2, 0],\n",
       "       [0, 2, 1, 2, 2]], dtype=int64)"
      ]
     },
     "execution_count": 20,
     "metadata": {},
     "output_type": "execute_result"
    }
   ],
   "source": [
    "x = [[0.1,0.2,0.3],[0.4,0.5,0.6],[0.7,0.8,0.9]]\n",
    "a = tf.multinomial(logits=x,num_samples=5,seed=None,name=None)\n",
    "a.eval()"
   ]
  },
  {
   "cell_type": "markdown",
   "metadata": {},
   "source": [
    "    Description will be added"
   ]
  },
  {
   "cell_type": "code",
   "execution_count": 21,
   "metadata": {
    "scrolled": true
   },
   "outputs": [
    {
     "data": {
      "text/plain": [
       "array([[ 0.40528718, 13.115233  ],\n",
       "       [ 1.9820431 ,  6.4917865 ],\n",
       "       [ 2.4109356 , 10.122631  ],\n",
       "       [ 0.9669662 , 16.374447  ],\n",
       "       [ 2.4382353 ,  7.1763825 ]], dtype=float32)"
      ]
     },
     "execution_count": 21,
     "metadata": {},
     "output_type": "execute_result"
    }
   ],
   "source": [
    "a = tf.random_gamma(shape=[5],alpha=[3,9],beta=None,dtype=tf.float32,seed=None,name=None)\n",
    "a.eval()"
   ]
  },
  {
   "cell_type": "markdown",
   "metadata": {},
   "source": [
    "    Description will be added"
   ]
  },
  {
   "cell_type": "raw",
   "metadata": {},
   "source": [
    "a = tf.constant([1.0, 2.0], name='node')\n",
    "with tf.Session() as ses:\n",
    "    print(ses.graph.as_graph_def())\n",
    "    ses.close()"
   ]
  },
  {
   "cell_type": "markdown",
   "metadata": {},
   "source": [
    "<br>\n",
    "#### Placeholder\n",
    "    In computetion we often need to use equation(y = 2x) or function(f(x) = 2x) or variable(x1,x2)\n",
    "    instead of constant like (2,3). Suppose we have a function of x, y = 2x+5, and we need to check\n",
    "    the value of y for x = 2,3,4,5,.... many more of x. To make this operation easy tensorflow provide\n",
    "    placeholder. In placeholder we use dictionary instead of predefined value. \n",
    "    More precisely: let we have x1 = [1,2,3] and x2 = [4,5,6], we need to add them; at certain point \n",
    "    we recongnize that x1 should not this for our purpose, and we need to check out some other value of\n",
    "    x1. So, we have to define x1 as a placeholder of (3,) shaped or 3 dimension and check out some random value.\n",
    "    To define a placeholder just write\n",
    "    \n",
    "    >>x1 = tensorflow.placeholder(dtype=None, shape=None, name=None)\n",
    "    \n",
    "    if we set x1 = [0,0,0] then our additional value will be [4,5,6]\n",
    "    if we set x1 = [4,5,6] then our additional value will be [8,10,12]\n",
    "    \n",
    "    placeholder simply allow us to use function or variable instead of constant\n",
    "   <br><b>Note:\n",
    "    > 2 = Scaler\n",
    "    > [2,2,2] = Vector (3 dimensional)\n",
    "    > [[1,2],[3,4]] = Matrix (2 X 2)\n",
    "    > [[[1,2],[3,4]],[[5,6],[7,8]]] = Tensor (2 X 2 X 2) {n-dimensional array}"
   ]
  },
  {
   "cell_type": "code",
   "execution_count": 22,
   "metadata": {},
   "outputs": [
    {
     "data": {
      "text/plain": [
       "array([5, 7, 9])"
      ]
     },
     "execution_count": 22,
     "metadata": {},
     "output_type": "execute_result"
    }
   ],
   "source": [
    "x1 = tf.placeholder(dtype=tf.int32, shape=(3,)) #creating a placeholder of 3 dimension\n",
    "x2 = tf.constant([4,5,6]) #define a constant of 3 dimension\n",
    "\n",
    "with tf.Session() as ses: #create a session for execution\n",
    "    y = ses.run(x1+x2, {x1:(1,2,3)}) #use python dictionary for pick the placeholder value\n",
    "    ses.close() #close the session\n",
    "y #show the value of y"
   ]
  },
  {
   "cell_type": "code",
   "execution_count": 23,
   "metadata": {},
   "outputs": [
    {
     "data": {
      "text/plain": [
       "array([ 8, 10, 12])"
      ]
     },
     "execution_count": 23,
     "metadata": {},
     "output_type": "execute_result"
    }
   ],
   "source": [
    "x1 = tf.placeholder(dtype=tf.int32, shape=(3,))\n",
    "x2 = tf.constant([4,5,6])\n",
    "\n",
    "with tf.Session() as ses:\n",
    "    y = ses.run(x1+x2, {x1:(4,5,6)})\n",
    "    ses.close()\n",
    "y"
   ]
  },
  {
   "cell_type": "code",
   "execution_count": 24,
   "metadata": {
    "scrolled": true
   },
   "outputs": [
    {
     "data": {
      "text/plain": [
       "13"
      ]
     },
     "execution_count": 24,
     "metadata": {},
     "output_type": "execute_result"
    }
   ],
   "source": [
    "x1 = tf.add(2,5) #define a node x1 with the value of 2+5\n",
    "x2 = tf.add(x1,3) #define a node x2 with the additional value of x1 and 3\n",
    "\n",
    "with tf.Session() as ses: #create a session for execution\n",
    "    replace_dictionary = {x1:10} #create a dictionary for x1\n",
    "    y = ses.run(x2, feed_dict=replace_dictionary) #pass the dictionary as feed_dict parameter in run\n",
    "    ses.close() #close the session\n",
    "y #show the value of y for x1 = 10: -> y = 10+3 = 13 instead of 7+3=10"
   ]
  },
  {
   "cell_type": "markdown",
   "metadata": {},
   "source": [
    "#### Variable\n",
    "    Variable is a class in tensorflow which allow us to create variable. In tensorflow constant is\n",
    "    a method where Variable is a class. Variable class has different functionality than constant. \n",
    "    Variable class allow us to change and update a node where constant only allow us to create a node which has\n",
    "    no update functionality, morever variable allow us to create a node with out any value using identifier\n",
    "    like x,y,z on the other-hand in constant value must be setted.\n",
    "    Besides there are more difference between them. Variable class has 4 basic\n",
    "    functionality: 1.initialization, 2.read, 3.write and 4.update. Variable must be initialize before it\n",
    "    use in graph.\n",
    "    \n",
    "\n",
    "><font size=\"2\"color=\"darkgreen\">Initialization:\n",
    "        1. instant variable initialization \n",
    "        2. initializer for a set of variable\n",
    "        3. global initializer for all variable"
   ]
  },
  {
   "cell_type": "code",
   "execution_count": 75,
   "metadata": {
    "scrolled": true
   },
   "outputs": [
    {
     "name": "stdout",
     "output_type": "stream",
     "text": [
      "[[0. 0. 0.]\n",
      " [0. 0. 0.]]\n"
     ]
    }
   ],
   "source": [
    "x1 = tf.Variable(tf.zeros((2,3))) #creating a variable of 2X3 matrix of zeros\n",
    "with tf.Session() as ses: #creating a session\n",
    "    ses.run(x1.initializer) #executing instant initialization of x1 variable\n",
    "    print(ses.run(x1)) #print out the x1 variable\n",
    "    ses.close() #close the session"
   ]
  },
  {
   "cell_type": "code",
   "execution_count": 73,
   "metadata": {},
   "outputs": [
    {
     "name": "stdout",
     "output_type": "stream",
     "text": [
      "[[0. 0. 0.]\n",
      " [0. 0. 0.]]\n",
      "[[1. 1. 1.]\n",
      " [1. 1. 1.]]\n"
     ]
    }
   ],
   "source": [
    "x1 = tf.Variable(tf.zeros((2,3))) #creating a variable of 2X3 matrix of zeros\n",
    "x2 = tf.Variable(tf.ones((2,3))) #creating a variable of 2X3 matrix of ones\n",
    "init = tf.variables_initializer([x1,x2], name='node1') #creating a initializer for x1 and x2\n",
    "with tf.Session() as ses: #creating a session for execution\n",
    "    ses.run(init) #execute the partial initializer for x1 and x2\n",
    "    print(ses.run(x1)) #print out the x1 variable \n",
    "    print(ses.run(x2)) #print out the x2 variable\n",
    "    ses.close() #close the session"
   ]
  },
  {
   "cell_type": "code",
   "execution_count": 74,
   "metadata": {},
   "outputs": [
    {
     "name": "stdout",
     "output_type": "stream",
     "text": [
      "[[0. 0. 0.]\n",
      " [0. 0. 0.]]\n",
      "[[1. 1. 1.]\n",
      " [1. 1. 1.]]\n"
     ]
    }
   ],
   "source": [
    "x1 = tf.Variable(tf.zeros((2,3))) #creating a variable of 2X3 matrix of zeros\n",
    "x2 = tf.Variable(tf.ones((2,3))) #creating a variable of 2X3 matrix of ones\n",
    "init = tf.global_variables_initializer() #creating a global initializer for initialize all variables\n",
    "with tf.Session() as ses: #creating a sessio \n",
    "    ses.run(init) #execute the global initializer\n",
    "    print(ses.run(x1)) #print out the x1 variable\n",
    "    print(ses.run(x2)) #print out the x2 variable\n",
    "    ses.close() #close the session"
   ]
  },
  {
   "cell_type": "code",
   "execution_count": 82,
   "metadata": {},
   "outputs": [
    {
     "name": "stdout",
     "output_type": "stream",
     "text": [
      "119\n"
     ]
    }
   ],
   "source": [
    "x1 = tf.Variable(19)\n",
    "x1.assign(100)\n",
    "with tf.Session() as ses:\n",
    "    ses.run(x1.initializer)\n",
    "    ses.run(x1.assign_add(100))\n",
    "    print(x1.eval())"
   ]
  },
  {
   "cell_type": "markdown",
   "metadata": {},
   "source": [
    "><font size=\"2\"color=\"darkgreen\">Assign:\n",
    "        1. variable.assign(...)\n",
    "        2. variable.assign_add(...)\n",
    "        3. variable.assign_sub(...)\n",
    "    \n",
    "   <font color=\"black\">\n",
    "    \n",
    "        >>x1 = tensorflow.Variable(...)\n",
    "        >>tensorflow.Session().run(x1.assign(...))\n",
    "        this api allow us to restore the update value of the varible. Like we have x1 = 3\n",
    "        and then we use x1.assign(4) then our x1 variable will be 4.\n",
    "        \n",
    "        >>x1 = tensorflow.Variable()\n",
    "        >>tensorflow.Session().run(x1.assign_add(...))\n",
    "        this api will allow us to update the variable with the additional value of new and \n",
    "        previous value. Like we have x1 = 3 and then we use x1.assign_add(4) then our\n",
    "        x1 will be 3+4 = 7\n",
    "\n",
    "        >>x1 = tensorflow.Variable(...)\n",
    "        >>tensorflow.Session().run(x1.assign_sub(...))\n",
    "        this api will allow us to update the variable with subtractional value of new and\n",
    "        previous value. Like we have x1 = 6 and then we use x1.assign_sub(2) then our\n",
    "        x1 will be 6-2 = 4\n",
    "        \n",
    "   <font color=\"red\" size=\"3\"><br>\n",
    "    assign api will only perform when we execute it. More precisely assign api will<br>\n",
    "    perform only with in a session execution otherwise this will not perform its operation\n",
    "    \n",
    "   <font size=\"2.5\"><br>\n",
    "    \n",
    "        Suppose we have a variable x1 = 7 and we make a statement like update = x1.assign(9)\n",
    "        and then we execute the update statement in session.run() without initialize the x1, \n",
    "        then tensorflow will auto initialize x1 with the value of 9 as because we run the \n",
    "        update statement where we assign x1 as 9 and this assign api will initialize the x1 as 9\n",
    "        \n",
    "        Suppose we define two variable x1 = 7 and x2 = x1.assign(x1 * 2), when we initialize x1 as 7 \n",
    "        and evaluate x2 then x2 will give us 7*2 = 14 and x1 will update with 14. if we execute the x2\n",
    "        statement second time then it will give us 28 as because our x1 is 14 and new x1 will be 28.\n",
    "        \n",
    "        Each session will maintain its own copy of value. Suppose we have a variable x1 = 4. \n",
    "        We have two session to run and we initialize x1 for each session then each session will\n",
    "        initialize the x1 as 4 and they never share there update value of x1 with each other.\n",
    "        Like session1 add 3 with x1 then x1 will be 7 for session1 and session2 subtract 3 from \n",
    "        x1 then x1 will be 4-3=1 not 7-3=4 because each session maintain their own copies"
   ]
  },
  {
   "cell_type": "code",
   "execution_count": 83,
   "metadata": {},
   "outputs": [
    {
     "name": "stdout",
     "output_type": "stream",
     "text": [
      "13\n"
     ]
    }
   ],
   "source": [
    "x1 = tf.Variable(13) #creating a variable with the value of 13\n",
    "x1.assign(26) #assign a update value outter from the session \n",
    "with tf.Session() as ses: #creating a session\n",
    "    ses.run(x1.initializer) #instant initialization of x1 variable\n",
    "    print(x1.eval()) #print out x1 variable which will give us 13 instead of 26\n",
    "    ses.close() #close the session"
   ]
  },
  {
   "cell_type": "code",
   "execution_count": 90,
   "metadata": {},
   "outputs": [
    {
     "name": "stdout",
     "output_type": "stream",
     "text": [
      "13\n",
      "13\n"
     ]
    }
   ],
   "source": [
    "x1 = tf.Variable(13) #creating a variable with the value of 13\n",
    "with tf.Session() as ses: #creating a session\n",
    "    ses.run(x1.initializer) #instant initialization of x1 variable\n",
    "    print(x1.eval()) #print out x1 variable which will give us 13 as the defined value\n",
    "    x1.assign(26) #update the x1 variable inner state of session\n",
    "    print(x1.eval()) #print out x1 variable which will give us 13 as we didn't executed it\n",
    "    ses.close() #close the session"
   ]
  },
  {
   "cell_type": "code",
   "execution_count": 89,
   "metadata": {},
   "outputs": [
    {
     "name": "stdout",
     "output_type": "stream",
     "text": [
      "13\n",
      "26\n"
     ]
    }
   ],
   "source": [
    "x1 = tf.Variable(13) #creating a variable with the value of 13\n",
    "with tf.Session() as ses: #creating a session\n",
    "    ses.run(x1.initializer) #instant initialization of x1 variable\n",
    "    print(x1.eval()) #print out x1 variable which will give us 13 as the defined value\n",
    "    ses.run(x1.assign(26)) #update the x1 variable by execute the assign api in session\n",
    "    print(x1.eval()) #print out x1 variable which will give us 26 as update value\n",
    "    ses.close() #close the session"
   ]
  },
  {
   "cell_type": "code",
   "execution_count": 94,
   "metadata": {},
   "outputs": [
    {
     "name": "stdout",
     "output_type": "stream",
     "text": [
      "13\n",
      "17\n"
     ]
    }
   ],
   "source": [
    "x1 = tf.Variable(13) #creating a variable with the value of 13\n",
    "with tf.Session() as ses: #creating a session\n",
    "    ses.run(x1.initializer) #instant initialization of x1 variable\n",
    "    print(x1.eval()) #print out x1 variable which will give us 13 as the we defined\n",
    "    ses.run(x1.assign_add(4)) #execute assign_add api which will make x1 = 13+4 = 17\n",
    "    print(x1.eval()) #print out x1 variable which will give us 17\n",
    "    ses.close() #close the session"
   ]
  },
  {
   "cell_type": "code",
   "execution_count": 95,
   "metadata": {},
   "outputs": [
    {
     "name": "stdout",
     "output_type": "stream",
     "text": [
      "13\n",
      "9\n"
     ]
    }
   ],
   "source": [
    "x1 = tf.Variable(13) #creating a variable with the value of 13\n",
    "with tf.Session() as ses: #creating a session\n",
    "    ses.run(x1.initializer) #instant initialization of x1 variable\n",
    "    print(x1.eval()) #print out x1 variable which will give us 13 as the we defined\n",
    "    ses.run(x1.assign_sub(4)) #execute assign_sub api which will make x1 = 13-4 = 9\n",
    "    print(x1.eval()) #print out x1 variable which will give us 9\n",
    "    ses.close() #close the session"
   ]
  },
  {
   "cell_type": "code",
   "execution_count": 97,
   "metadata": {},
   "outputs": [
    {
     "name": "stdout",
     "output_type": "stream",
     "text": [
      "8\n"
     ]
    }
   ],
   "source": [
    "x1 = tf.Variable(4) #creating a variable with the value of 4\n",
    "update = x1.assign(8) #make a statement of assign of the x1\n",
    "with tf.Session() as ses: #creating a session\n",
    "    ses.run(update) #no need to initialize x1 because update statement will do that\n",
    "    print(x1.eval()) #this will give us 8 as because x1 was initialized with 8 in update state\n",
    "    ses.close() #close the session"
   ]
  },
  {
   "cell_type": "code",
   "execution_count": 102,
   "metadata": {},
   "outputs": [
    {
     "name": "stdout",
     "output_type": "stream",
     "text": [
      "8\n",
      "32\n",
      "32\n",
      "128\n",
      "128\n"
     ]
    }
   ],
   "source": [
    "x1 = tf.Variable(4) #creating a variable with the value of 4\n",
    "x2 = x1.assign(2*x1) #make an update statement of x1\n",
    "with tf.Session() as ses: #creating a session\n",
    "    ses.run(x1.initializer) #instant initialization of x1\n",
    "    print(x2.eval()) #execute x2 which will give us 2*4=8 and make x1=8\n",
    "    ses.run(x2) #this will execute x2 again and make x2=8*2=16 and x1=16\n",
    "    print(x2.eval()) #execute x2 -> x2=16*2=32 and make x1=32\n",
    "    print(x1.eval()) #execute x1 which will give us 32\n",
    "    ses.run(x2) #execute x2 again and make x1 = x2 = 64\n",
    "    print(x2.eval()) #execute x2 which will make print x2=128 and make x1=128\n",
    "    print(x1.eval()) #execute x1 which will give us 128\n",
    "    ses.close() #close the session"
   ]
  },
  {
   "cell_type": "code",
   "execution_count": 132,
   "metadata": {},
   "outputs": [
    {
     "name": "stdout",
     "output_type": "stream",
     "text": [
      "7\n",
      "6\n"
     ]
    }
   ],
   "source": [
    "x1 = tf.Variable(4) #create a variable with the value of 4\n",
    "ses1 = tf.Session() #creating session1\n",
    "ses2 = tf.Session() #creating session2\n",
    "ses1.run(x1.initializer) #instant initialize x1 in session1\n",
    "ses2.run(x1.initializer) #instant initialize x1 in session2\n",
    "print(ses1.run(x1.assign_add(3))) #update x1 for session1 and now x1=4+3=7 for session1\n",
    "print(ses2.run(x1.assign_add(2))) #update x1 for session2 and now x1=4+2=6 for session2\n",
    "ses1.close() #close session1\n",
    "ses2.close() #close session2"
   ]
  },
  {
   "cell_type": "markdown",
   "metadata": {},
   "source": [
    "<br>\n",
    "#### Control Dependencies\n",
    "    >>tensorflow.Graph.control_dependencies([control_inputs])\n",
    "    this api allow us control the execution serial of nodes, like we have 5 operation\n",
    "    in our graph: op1, op2, op3, op4 and op5 and we want op2 and op5 will execute before\n",
    "    others will have executed. Then we have to use control dependencies for control this.\n",
    "    If we pass op2 and op5 as control_inputs parameters then our graph will execute op2 \n",
    "    and op5 before others have executed."
   ]
  },
  {
   "cell_type": "code",
   "execution_count": 145,
   "metadata": {},
   "outputs": [
    {
     "data": {
      "text/plain": [
       "<tensorflow.python.framework.ops.Graph._ControlDependenciesController at 0x1c1b0b09ba8>"
      ]
     },
     "execution_count": 145,
     "metadata": {},
     "output_type": "execute_result"
    }
   ],
   "source": [
    "x1 = tf.add(1,2)\n",
    "x2 = tf.add(3,4)\n",
    "x3 = tf.add(5,6)\n",
    "x4 = tf.add(9,1)\n",
    "\n",
    "g = tf.get_default_graph()\n",
    "g.control_dependencies([x1,x4])"
   ]
  },
  {
   "cell_type": "code",
   "execution_count": null,
   "metadata": {},
   "outputs": [],
   "source": []
  }
 ],
 "metadata": {
  "kernelspec": {
   "display_name": "Python 3",
   "language": "python",
   "name": "python3"
  },
  "language_info": {
   "codemirror_mode": {
    "name": "ipython",
    "version": 3
   },
   "file_extension": ".py",
   "mimetype": "text/x-python",
   "name": "python",
   "nbconvert_exporter": "python",
   "pygments_lexer": "ipython3",
   "version": "3.6.2"
  }
 },
 "nbformat": 4,
 "nbformat_minor": 2
}
