{
 "cells": [
  {
   "cell_type": "markdown",
   "metadata": {},
   "source": [
    "# K Nearest Neighbor Algorithm Overview\n",
    "\n",
    "This note will cover the brief overview of KNN algorithm with some fundamental concepts and basic example.\n",
    "\n",
    "**References**\n",
    " * [Machine Learning Basics with the K-Nearest Neighbors Algorithm](https://towardsdatascience.com/machine-learning-basics-with-the-k-nearest-neighbors-algorithm-6a6e71d01761)\n",
    " * [K Nearest Neighbors - Classification](https://www.saedsayad.com/k_nearest_neighbors.htm)\n",
    "***\n",
    "\n",
    "The KNN algorithm assumes that similar things exist in closer proximity. In other words, similar things are near to each other. A case is classified by a majority vote of its neighbors with the case being assigned to the class most common amongest its K nearest neighbors measured by a distance function\n",
    "\n",
    "**Distance Functions**\n",
    "\n",
    "* \n",
    "$$\n",
    "    Euclidean\\:Distance = \\sqrt{ \\sum_{i=1}^{n} (x_i -y_i)^2 }\n",
    "$$\n",
    "\n",
    "* \n",
    "$$\n",
    "    Manhattan\\:Distance = \\sum_{i=1}^{n} \\lvert x_i - y_i \\rvert\n",
    "$$\n",
    "\n",
    "* \n",
    "$$\n",
    "    Minkowski\\:Distance = (\\sum_{i=1}^{n} (\\lvert x_i - y_i \\rvert)^q)^\\frac{1}{q}\n",
    "$$\n",
    "\n",
    "All these measures are only valid for `continuous` variable(s). \n",
    "\n",
    "**Algorithm**\n",
    "\n",
    " * Read the dataset\n",
    " * Select a `k` value (will discuss letter how to calculate)\n",
    " * For each each in dataset\n",
    "   * Calculate the distance between the query item and current record from dataset\n",
    "   * Add distance and the index of the current record in a collection\n",
    " * Sort the collection in ascending order by the distance\n",
    " * Pick the first K items from the sorted collection\n",
    " * Get the labels of selected items\n",
    " * Mode (most frequece) of the labels is the predicted label for the query item\n",
    " \n",
    " \n",
    "**Example**\n",
    "\n",
    "Dataset is about some sample of a chemical's `acidity` , `strength` and `class` \n",
    "\n",
    "| Index  | Acid   | Strength | Class |\n",
    "|--------|--------|----------|-------|\n",
    "| m-1 | 7 | 7 | Bad |\n",
    "| m-2 | 7 | 4 | Bad |\n",
    "| m-3 | 3 | 4 | Good |\n",
    "| m-4 | 1 | 4 | Good |\n",
    "\n",
    "\n",
    "We will assume the class of `[3, 7]`. That means `Acid=3` and `Strength=7`.\n",
    "\n",
    "\n",
    "Assume `k = 3`\n",
    "\n",
    "Let find out the distance of the query [3,7] item from each sample. Here we'll use `Eucledian` distance which is very popular.\n",
    "\n",
    "\n"
   ]
  },
  {
   "cell_type": "markdown",
   "metadata": {},
   "source": [
    "Distance from `m-1`\n",
    "$$\n",
    "   \\sqrt{(7-3)^2+(7-7)^2}= 4\n",
    "$$\n",
    "\n",
    "\n",
    "Distance from `m-2`\n",
    "$$\n",
    "   \\sqrt{(7-3)^2+(4-7)^2}= 5\n",
    "$$\n",
    "\n",
    "\n",
    "Distance from `m-3`\n",
    "$$\n",
    "   \\sqrt{(3-3)^2+(4-7)^2}= 3\n",
    "$$\n",
    "\n",
    "\n",
    "Distance from `m-4`\n",
    "$$\n",
    "   \\sqrt{(1-3)^2+(4-7)^2}= 3.6\n",
    "$$"
   ]
  },
  {
   "cell_type": "markdown",
   "metadata": {},
   "source": [
    "Sorted(ascending) collection by distance:\n",
    "\n",
    "| Index  | Distance | Class |\n",
    "|--------|----------|-------| \n",
    "| m-3 | 3 | Good |\n",
    "| m-4 | 3.6 | Good |\n",
    "| m-1 | 4 | Bad |\n",
    "| m-2 | 5 | Bad |\n",
    "\n",
    "\n",
    "Picked  first `k = 3` items\n",
    "\n",
    "| Index  | Distance | Class |\n",
    "|--------|----------|-------| \n",
    "| m-3 | 3 | Good |\n",
    "| m-4 | 3.6 | Good |\n",
    "| m-1 | 4 | Bad |\n",
    "\n",
    "most frequence or `mode` class is `Good`. So `[3,7]` is classified as `Good`.\n",
    "\n",
    "***\n",
    "\n",
    "How about, if we picked `k = 2` the collection will be:\n",
    "\n",
    "| Index  | Distance | Class |\n",
    "|--------|----------|-------| \n",
    "| m-3 | 3 | Good |\n",
    "| m-4 | 3.6 | Good |\n",
    "\n",
    "And `[3,7]` is again classified as `Good` as because everything here is `Good`.\n",
    "\n",
    "This is how KNN classified a case by its nearest neighbors votes.\n",
    "***\n",
    "Now lets see how to use KNN in python using sklearn library"
   ]
  },
  {
   "cell_type": "code",
   "execution_count": 1,
   "metadata": {},
   "outputs": [],
   "source": [
    "from sklearn.neighbors import KNeighborsClassifier"
   ]
  },
  {
   "cell_type": "code",
   "execution_count": 2,
   "metadata": {},
   "outputs": [],
   "source": [
    "X_train = [ [7,7], [7,4], [3,4], [1,4] ]\n",
    "Y_train_catg = ['Bad', 'Bad', 'Good','Good']\n",
    "X_test = [[3,7]]"
   ]
  },
  {
   "cell_type": "code",
   "execution_count": 3,
   "metadata": {},
   "outputs": [
    {
     "data": {
      "text/plain": [
       "array(['Good'], dtype='<U4')"
      ]
     },
     "execution_count": 3,
     "metadata": {},
     "output_type": "execute_result"
    }
   ],
   "source": [
    "knn_clf = KNeighborsClassifier(n_neighbors=3)\n",
    "knn_clf.fit(X_train,Y_train_catg)\n",
    "knn_clf.predict(X_test)"
   ]
  },
  {
   "cell_type": "markdown",
   "metadata": {},
   "source": [
    "***\n",
    "**Choosing the right value for `k`**\n",
    "\n",
    "The kernel value or `k` doesn't have any strick rule to select the value. It does vary with dataset. To select the K that right for a dataset, we run the KNN algorithm serveral times with different values of `k` and choose the `k` that has minimum error.\n",
    "\n",
    "Here are some things to keep in mind:\n",
    " * As we decrease the value of k to 1, our prediction become less stable.\n",
    " * Inversely, as we increase the value of k, our predictions becomes more stable due to majority voting/averaging, and thus, more likely to make accurate predictions. Eventually, we begin to witness an increasing number of errors."
   ]
  },
  {
   "cell_type": "code",
   "execution_count": null,
   "metadata": {},
   "outputs": [],
   "source": []
  }
 ],
 "metadata": {
  "kernelspec": {
   "display_name": "Python 3",
   "language": "python",
   "name": "python3"
  },
  "language_info": {
   "codemirror_mode": {
    "name": "ipython",
    "version": 3
   },
   "file_extension": ".py",
   "mimetype": "text/x-python",
   "name": "python",
   "nbconvert_exporter": "python",
   "pygments_lexer": "ipython3",
   "version": "3.6.2"
  }
 },
 "nbformat": 4,
 "nbformat_minor": 2
}
