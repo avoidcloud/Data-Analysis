{
 "cells": [
  {
   "cell_type": "markdown",
   "metadata": {},
   "source": [
    "### Banagla hand writing digit analysis with Support Vector Classifier (SVC)\n",
    "\n",
    "Datasets are available here https://bit.ly/36CFi0G\n",
    "\n",
    "#### Requirements:\n",
    "* Basic concept on numpy \n",
    "    \n",
    " (documentation sample code: https://github.com/rafiulgits/Data-Analysis/blob/master/Deep%20Computation/Numerical-Python.ipynb)"
   ]
  },
  {
   "cell_type": "code",
   "execution_count": 1,
   "metadata": {},
   "outputs": [],
   "source": [
    "import numpy as np"
   ]
  },
  {
   "cell_type": "code",
   "execution_count": 2,
   "metadata": {},
   "outputs": [],
   "source": [
    "# data set loader function\n",
    "# use your own data set path\n",
    "\n",
    "def load_datasets():\n",
    "    files_path = ['./data/train_images.txt','./data/train_labels.txt', './data/test_images.txt', './data/test_labels.txt']\n",
    "    for file in files_path:\n",
    "        file_data = np.loadtxt(file)\n",
    "        yield file_data"
   ]
  },
  {
   "cell_type": "code",
   "execution_count": 3,
   "metadata": {},
   "outputs": [],
   "source": [
    "data = load_datasets()\n",
    "X_train = next(data)\n",
    "Y_train = next(data)\n",
    "X_test = next(data)\n",
    "Y_test = next(data)"
   ]
  },
  {
   "cell_type": "markdown",
   "metadata": {},
   "source": [
    "datasets will be loaded as numpy ndarray. ndarray is basically multi-dimensional array. It has its shape which is can reshape using reshape command. If the shape is `(a, b, c)` and proposed reshape is `(x, y, z)` then relation that have to be maintained is `a * b * c = x * y * c`"
   ]
  },
  {
   "cell_type": "code",
   "execution_count": 4,
   "metadata": {},
   "outputs": [
    {
     "name": "stdout",
     "output_type": "stream",
     "text": [
      "<class 'numpy.ndarray'>\n",
      "<class 'numpy.ndarray'>\n",
      "(23824, 784)\n",
      "(23824,)\n"
     ]
    }
   ],
   "source": [
    "print(type(X_train))\n",
    "print(type(Y_train))\n",
    "print(X_train.shape)\n",
    "print(Y_train.shape)"
   ]
  },
  {
   "cell_type": "markdown",
   "metadata": {},
   "source": [
    "X means input set which is known as `features` and Y means output set knows as `labels`. Here shape of X is (23824, 784) which means feature dataset has 23824 items and each of them is an another ndarray. And shape of Y means total result of X items"
   ]
  },
  {
   "cell_type": "code",
   "execution_count": 5,
   "metadata": {},
   "outputs": [
    {
     "data": {
      "text/plain": [
       "numpy.ndarray"
      ]
     },
     "execution_count": 5,
     "metadata": {},
     "output_type": "execute_result"
    }
   ],
   "source": [
    "type(X_train[0])"
   ]
  },
  {
   "cell_type": "code",
   "execution_count": 6,
   "metadata": {},
   "outputs": [
    {
     "data": {
      "text/plain": [
       "784"
      ]
     },
     "execution_count": 6,
     "metadata": {},
     "output_type": "execute_result"
    }
   ],
   "source": [
    "size_of_each_train_item = X_train.shape[1]\n",
    "size_of_each_train_item"
   ]
  },
  {
   "cell_type": "markdown",
   "metadata": {},
   "source": [
    "We have to reshape each item in such way like `n * n` so that `n * n = 784`"
   ]
  },
  {
   "cell_type": "code",
   "execution_count": 7,
   "metadata": {},
   "outputs": [
    {
     "data": {
      "text/plain": [
       "28.0"
      ]
     },
     "execution_count": 7,
     "metadata": {},
     "output_type": "execute_result"
    }
   ],
   "source": [
    "from math import sqrt\n",
    "sqrt(784)"
   ]
  },
  {
   "cell_type": "markdown",
   "metadata": {},
   "source": [
    "try to visualize an image from testing data set using `matplotlib` package"
   ]
  },
  {
   "cell_type": "code",
   "execution_count": 8,
   "metadata": {},
   "outputs": [],
   "source": [
    "from matplotlib import pyplot as graph"
   ]
  },
  {
   "cell_type": "code",
   "execution_count": 9,
   "metadata": {},
   "outputs": [
    {
     "data": {
      "text/plain": [
       "<matplotlib.image.AxesImage at 0x1dd2be6de10>"
      ]
     },
     "execution_count": 9,
     "metadata": {},
     "output_type": "execute_result"
    },
    {
     "data": {
      "image/png": "[encoded data removed]",
      "text/plain": [
       "<Figure size 432x288 with 1 Axes>"
      ]
     },
     "metadata": {
      "needs_background": "light"
     },
     "output_type": "display_data"
    }
   ],
   "source": [
    "item = X_test[0]\n",
    "graph.imshow(item.reshape(28,28))"
   ]
  },
  {
   "cell_type": "code",
   "execution_count": 10,
   "metadata": {},
   "outputs": [
    {
     "data": {
      "text/plain": [
       "7.0"
      ]
     },
     "execution_count": 10,
     "metadata": {},
     "output_type": "execute_result"
    }
   ],
   "source": [
    "# Show the label of this item\n",
    "Y_test[0]"
   ]
  },
  {
   "cell_type": "code",
   "execution_count": 11,
   "metadata": {},
   "outputs": [
    {
     "data": {
      "text/plain": [
       "array([[  0.,   0.,   0.,   1.,   4.,   0.,   0.,  23.,  79., 177., 217.,\n",
       "        255., 255., 252., 255., 229., 228., 255., 218., 129.,  64.,   0.,\n",
       "          0.,   0.,   1.,   0.,   0.,   0.],\n",
       "       [  0.,   0.,   2.,   0.,   0.,  28., 149., 253., 229., 144.,  79.,\n",
       "         71.,  64.,  46.,  68.,  13.,  13.,  56., 141., 190., 255., 193.,\n",
       "         64.,   1.,   0.,   1.,   0.,   0.],\n",
       "       [  0.,   3.,   0.,   3., 138., 255., 222.,  98.,  18.,   0.,   0.,\n",
       "          0.,   0.,   0.,   0.,   0.,   0.,   0.,   0.,   0.,  53., 186.,\n",
       "        255., 148.,   8.,   3.,   3.,   0.],\n",
       "       [  4.,   0.,  48., 217., 251.,  99.,   0.,   0.,   0.,   4.,   3.,\n",
       "          3.,   3.,   2.,   3.,   1.,   1.,   2.,   4.,   3.,   0.,   0.,\n",
       "        103., 255., 182.,   0.,   0.,   0.],\n",
       "       [  0.,  57., 234., 187.,  28.,   0.,   1.,   3.,   1.,   0.,   0.,\n",
       "          0.,   0.,   0.,   0.,   0.,   0.,   0.,   0.,   0.,   3.,   5.,\n",
       "          0., 113., 255., 147.,  46.,   7.],\n",
       "       [ 56., 255., 176.,   0.,   0.,   4.,   0.,   0.,   0.,   0.,   0.,\n",
       "          0.,   0.,   0.,   0.,   0.,   0.,   0.,   0.,   0.,   2.,   5.,\n",
       "          3.,   0., 204., 255., 255., 141.],\n",
       "       [171., 237.,  16.,   2.,   3.,   0.,   0.,   0.,   0.,   0.,   0.,\n",
       "          0.,   0.,   0.,   0.,   0.,   0.,   2.,   3.,   1.,   0.,   0.,\n",
       "          4., 162., 236., 250., 241.,  98.],\n",
       "       [245., 217.,   0.,   0.,   3.,   3.,   2.,   1.,   3.,   3.,   2.,\n",
       "          3.,   3.,   4.,   4.,   4.,   0.,   0.,   0.,   0.,  37., 102.,\n",
       "        215., 224., 218., 255., 150.,   0.],\n",
       "       [ 84., 252., 152.,  14.,   0.,   0.,   0.,   0.,   0.,   0.,   0.,\n",
       "          0.,   0.,   0.,   0.,   0.,   0.,  43., 152., 218., 247., 176.,\n",
       "         92.,   3.,  96., 255., 145.,   2.],\n",
       "       [  0.,  48., 191., 229., 177.,  88.,  51.,  34.,  80.,  69.,  44.,\n",
       "         70.,  80., 117., 159., 171., 230., 227., 205., 106.,  37.,   0.,\n",
       "          0.,   0., 112., 255., 156.,   0.],\n",
       "       [  2.,   0.,   0.,  52., 114., 174., 169., 157., 189., 182., 165.,\n",
       "        182., 189., 192., 188., 115.,  92.,  19.,   0.,   0.,   0.,   2.,\n",
       "          6.,   1., 188., 254.,  78.,   0.],\n",
       "       [  0.,   2.,   1.,   0.,   0.,   0.,   0.,   0.,   0.,   0.,   0.,\n",
       "          0.,   0.,   0.,   0.,   0.,   0.,   0.,   2.,   3.,   2.,   0.,\n",
       "          3.,   0., 183., 255.,  28.,   0.],\n",
       "       [  0.,   0.,   0.,   2.,   4.,   3.,   2.,   2.,   3.,   3.,   2.,\n",
       "          3.,   3.,   3.,   3.,   4.,   4.,   1.,   0.,   0.,   0.,   2.,\n",
       "          1.,  33., 236., 244.,  34.,   1.],\n",
       "       [  0.,   0.,   0.,   0.,   0.,   0.,   0.,   0.,   0.,   0.,   0.,\n",
       "          0.,   0.,   0.,   0.,   0.,   0.,   0.,   0.,   0.,   0.,   3.,\n",
       "          0.,  72., 255., 171.,   1.,   4.],\n",
       "       [  0.,   0.,   0.,   0.,   0.,   0.,   0.,   0.,   0.,   0.,   0.,\n",
       "          0.,   0.,   0.,   0.,   0.,   0.,   0.,   0.,   0.,   0.,   4.,\n",
       "          2., 171., 255.,  73.,   0.,   3.],\n",
       "       [  0.,   0.,   0.,   0.,   0.,   0.,   0.,   0.,   0.,   0.,   0.,\n",
       "          0.,   0.,   0.,   0.,   0.,   0.,   0.,   0.,   0.,   1.,   1.,\n",
       "         25., 243., 223.,  17.,   2.,   1.],\n",
       "       [  0.,   0.,   0.,   0.,   0.,   0.,   0.,   0.,   0.,   0.,   0.,\n",
       "          0.,   0.,   0.,   0.,   0.,   0.,   0.,   0.,   0.,   4.,   0.,\n",
       "        104., 255., 140.,   0.,   3.,   0.],\n",
       "       [  0.,   0.,   0.,   0.,   0.,   0.,   0.,   0.,   0.,   0.,   0.,\n",
       "          0.,   0.,   0.,   0.,   0.,   0.,   0.,   0.,   1.,   3.,  10.,\n",
       "        195., 255.,  62.,   1.,   3.,   0.],\n",
       "       [  0.,   0.,   0.,   0.,   0.,   0.,   0.,   0.,   0.,   0.,   0.,\n",
       "          0.,   0.,   0.,   0.,   0.,   0.,   0.,   0.,   2.,   0.,  23.,\n",
       "        255., 226.,  19.,   1.,   1.,   0.],\n",
       "       [  0.,   0.,   0.,   0.,   0.,   0.,   0.,   0.,   0.,   0.,   0.,\n",
       "          0.,   0.,   0.,   0.,   0.,   0.,   0.,   0.,   5.,   0., 104.,\n",
       "        254., 140.,   0.,   3.,   0.,   0.],\n",
       "       [  0.,   0.,   0.,   0.,   0.,   0.,   0.,   0.,   0.,   0.,   0.,\n",
       "          0.,   0.,   0.,   0.,   0.,   0.,   0.,   0.,   4.,   5., 162.,\n",
       "        255.,  67.,   0.,   4.,   0.,   0.],\n",
       "       [  0.,   0.,   0.,   0.,   0.,   0.,   0.,   0.,   0.,   0.,   0.,\n",
       "          0.,   0.,   0.,   0.,   0.,   0.,   0.,   1.,   0.,   7., 253.,\n",
       "        218.,  27.,  20.,   0.,   1.,   0.],\n",
       "       [  0.,   0.,   0.,   0.,   0.,   0.,   0.,   0.,   0.,   0.,   0.,\n",
       "          0.,   0.,   0.,   0.,   0.,   0.,   0.,   4.,   1.,  76., 254.,\n",
       "        205., 164.,  13.,   1.,   0.,   0.],\n",
       "       [  0.,   0.,   0.,   0.,   0.,   0.,   0.,   0.,   0.,   0.,   0.,\n",
       "          0.,   0.,   0.,   0.,   0.,   0.,   0.,   2.,   0., 204., 255.,\n",
       "        255., 213.,   0.,   2.,   0.,   0.],\n",
       "       [  0.,   0.,   0.,   0.,   0.,   0.,   0.,   0.,   0.,   0.,   0.,\n",
       "          0.,   0.,   0.,   0.,   0.,   0.,   3.,   0.,  44., 246., 249.,\n",
       "        255., 188.,   0.,   3.,   0.,   0.],\n",
       "       [  0.,   0.,   0.,   0.,   0.,   0.,   0.,   0.,   0.,   0.,   0.,\n",
       "          0.,   0.,   0.,   0.,   0.,   0.,   3.,   0., 131., 253., 255.,\n",
       "        212.,  39.,   1.,   2.,   0.,   0.],\n",
       "       [  0.,   0.,   0.,   0.,   0.,   0.,   0.,   0.,   0.,   0.,   0.,\n",
       "          0.,   0.,   0.,   0.,   0.,   0.,   0.,   0., 227., 255., 208.,\n",
       "         10.,   0.,   1.,   0.,   0.,   0.],\n",
       "       [  0.,   0.,   0.,   0.,   0.,   0.,   0.,   0.,   0.,   0.,   0.,\n",
       "          0.,   0.,   0.,   0.,   0.,   0.,   1.,   0., 123., 153.,  39.,\n",
       "          0.,   4.,   0.,   0.,   0.,   0.]])"
      ]
     },
     "execution_count": 11,
     "metadata": {},
     "output_type": "execute_result"
    }
   ],
   "source": [
    "# array representation\n",
    "item.reshape(28,28)"
   ]
  },
  {
   "cell_type": "markdown",
   "metadata": {},
   "source": [
    "#### Time to use Support Vector Classifier (SVC) to train, analyze and predict"
   ]
  },
  {
   "cell_type": "code",
   "execution_count": 12,
   "metadata": {},
   "outputs": [],
   "source": [
    "from sklearn.svm import SVC"
   ]
  },
  {
   "cell_type": "code",
   "execution_count": 13,
   "metadata": {},
   "outputs": [
    {
     "data": {
      "text/plain": [
       "SVC(C=1.0, cache_size=200, class_weight=None, coef0=0.0,\n",
       "  decision_function_shape='ovr', degree=3, gamma='auto', kernel='rbf',\n",
       "  max_iter=-1, probability=False, random_state=None, shrinking=True,\n",
       "  tol=0.001, verbose=False)"
      ]
     },
     "execution_count": 13,
     "metadata": {},
     "output_type": "execute_result"
    }
   ],
   "source": [
    "model = SVC()\n",
    "# USE train data instead of test\n",
    "model.fit(X_test, Y_test)"
   ]
  },
  {
   "cell_type": "code",
   "execution_count": 14,
   "metadata": {},
   "outputs": [
    {
     "data": {
      "text/plain": [
       "array([7.])"
      ]
     },
     "execution_count": 14,
     "metadata": {},
     "output_type": "execute_result"
    }
   ],
   "source": [
    "# verify the model whether it can predict the above sample item\n",
    "model.predict([X_test[0]])"
   ]
  }
 ],
 "metadata": {
  "kernelspec": {
   "display_name": "Python 3",
   "language": "python",
   "name": "python3"
  },
  "language_info": {
   "codemirror_mode": {
    "name": "ipython",
    "version": 3
   },
   "file_extension": ".py",
   "mimetype": "text/x-python",
   "name": "python",
   "nbconvert_exporter": "python",
   "pygments_lexer": "ipython3",
   "version": "3.6.2"
  }
 },
 "nbformat": 4,
 "nbformat_minor": 2
}
